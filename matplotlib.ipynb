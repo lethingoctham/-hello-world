{
  "nbformat": 4,
  "nbformat_minor": 0,
  "metadata": {
    "colab": {
      "name": "Untitled10.ipynb",
      "provenance": [],
      "collapsed_sections": [],
      "authorship_tag": "ABX9TyOuuC82FgZnF2yapXcSwC1E",
      "include_colab_link": true
    },
    "kernelspec": {
      "name": "python3",
      "display_name": "Python 3"
    }
  },
  "cells": [
    {
      "cell_type": "markdown",
      "metadata": {
        "id": "view-in-github",
        "colab_type": "text"
      },
      "source": [
        "<a href=\"https://colab.research.google.com/github/lethingoctham/bt/blob/main/matplotlib.ipynb\" target=\"_parent\"><img src=\"https://colab.research.google.com/assets/colab-badge.svg\" alt=\"Open In Colab\"/></a>"
      ]
    },
    {
      "cell_type": "code",
      "metadata": {
        "colab": {
          "base_uri": "https://localhost:8080/",
          "height": 295
        },
        "id": "kzo4SIvA2PB5",
        "outputId": "e11f4f35-e8ae-4e96-d6b4-e5debd7b8c0e"
      },
      "source": [
        "import matplotlib.pyplot as plt\r\n",
        "y_values = [6.5,7.8, 9.5]\r\n",
        "data_labels = ['ngoc', 'mai', 'lan']\r\n",
        "colors = [ \"#fd79a8\", \"#273c75\", \"#e74c3c\"]\r\n",
        "xs = [i + 0.03 for i, _ in enumerate(data_labels)]\r\n",
        "plt.bar(xs,y_values, color=colors)\r\n",
        "plt.xticks([i+0.1 for i, _ in enumerate(data_labels)], data_labels)\r\n",
        "plt.title(\"điểm tb của sv\")\r\n",
        "plt.xlabel('Tên')\r\n",
        "plt.ylabel('điểm tb')\r\n",
        "\r\n",
        "plt.show()"
      ],
      "execution_count": null,
      "outputs": [
        {
          "output_type": "display_data",
          "data": {
            "image/png": "[encoded data removed]",
            "text/plain": [
              "<Figure size 432x288 with 1 Axes>"
            ]
          },
          "metadata": {
            "tags": [],
            "needs_background": "light"
          }
        }
      ]
    },
    {
      "cell_type": "code",
      "metadata": {
        "colab": {
          "base_uri": "https://localhost:8080/",
          "height": 493
        },
        "id": "7VrPxPHdMOlw",
        "outputId": "030ae6d2-9946-446c-ed49-8a7b1f173ff5"
      },
      "source": [
        "import matplotlib.pyplot as plt\r\n",
        "divisions = [\"Dvi-A\", \"Dvi-B\", \"Dvi-C\", \"Dvi-D\"]\r\n",
        "boys_average_marks = [68, 77, 61, 70]\r\n",
        "girls_average_marks = [72, 97, 61, 60]\r\n",
        "\r\n",
        "index = np.arange(4)\r\n",
        "width = 0.30\r\n",
        "\r\n",
        "plt.bar(index, boys_average_marks, width, color= \"blue\",label=\"Boys Marks\" )\r\n",
        "plt.bar(index, girls_average_marks, width, color=\"red\",label=\"Girls Marks\", bottom=boys_average_marks)\r\n",
        "\r\n",
        "plt.title(\"Vertically stacked Bar Graphs\")\r\n",
        "plt.xlable(\"Disvisions\")\r\n",
        "plt.ylabel(\"Marks\")\r\n",
        "plt.xticks(index, disvision)\r\n",
        "\r\n",
        "plt.legend(loc= 'best')\r\n",
        "plt.show()\r\n"
      ],
      "execution_count": null,
      "outputs": [
        {
          "output_type": "error",
          "ename": "AttributeError",
          "evalue": "ignored",
          "traceback": [
            "\u001b[0;31m---------------------------------------------------------------------------\u001b[0m",
            "\u001b[0;31mAttributeError\u001b[0m                            Traceback (most recent call last)",
            "\u001b[0;32m<ipython-input-24-98e88380cf93>\u001b[0m in \u001b[0;36m<module>\u001b[0;34m()\u001b[0m\n\u001b[1;32m     11\u001b[0m \u001b[0;34m\u001b[0m\u001b[0m\n\u001b[1;32m     12\u001b[0m \u001b[0mplt\u001b[0m\u001b[0;34m.\u001b[0m\u001b[0mtitle\u001b[0m\u001b[0;34m(\u001b[0m\u001b[0;34m\"Vertically stacked Bar Graphs\"\u001b[0m\u001b[0;34m)\u001b[0m\u001b[0;34m\u001b[0m\u001b[0;34m\u001b[0m\u001b[0m\n\u001b[0;32m---> 13\u001b[0;31m \u001b[0mplt\u001b[0m\u001b[0;34m.\u001b[0m\u001b[0mxlable\u001b[0m\u001b[0;34m(\u001b[0m\u001b[0;34m\"Disvisions\"\u001b[0m\u001b[0;34m)\u001b[0m\u001b[0;34m\u001b[0m\u001b[0;34m\u001b[0m\u001b[0m\n\u001b[0m\u001b[1;32m     14\u001b[0m \u001b[0mplt\u001b[0m\u001b[0;34m.\u001b[0m\u001b[0mylabel\u001b[0m\u001b[0;34m(\u001b[0m\u001b[0;34m\"Marks\"\u001b[0m\u001b[0;34m)\u001b[0m\u001b[0;34m\u001b[0m\u001b[0;34m\u001b[0m\u001b[0m\n\u001b[1;32m     15\u001b[0m \u001b[0mplt\u001b[0m\u001b[0;34m.\u001b[0m\u001b[0mxticks\u001b[0m\u001b[0;34m(\u001b[0m\u001b[0mindex\u001b[0m\u001b[0;34m,\u001b[0m \u001b[0mdisvision\u001b[0m\u001b[0;34m)\u001b[0m\u001b[0;34m\u001b[0m\u001b[0;34m\u001b[0m\u001b[0m\n",
            "\u001b[0;31mAttributeError\u001b[0m: module 'matplotlib.pyplot' has no attribute 'xlable'"
          ]
        },
        {
          "output_type": "display_data",
          "data": {
            "image/png": "[encoded data removed]",
            "text/plain": [
              "<Figure size 432x288 with 1 Axes>"
            ]
          },
          "metadata": {
            "tags": [],
            "needs_background": "light"
          }
        }
      ]
    }
  ]
}