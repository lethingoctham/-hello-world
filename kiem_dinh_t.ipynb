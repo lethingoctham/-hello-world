{
  "nbformat": 4,
  "nbformat_minor": 0,
  "metadata": {
    "colab": {
      "name": "kiem-dinh-t.ipynb",
      "provenance": [],
      "authorship_tag": "ABX9TyN5SO6WdQgh7vXzN7G0E4aQ",
      "include_colab_link": true
    },
    "kernelspec": {
      "name": "python3",
      "display_name": "Python 3"
    },
    "language_info": {
      "name": "python"
    }
  },
  "cells": [
    {
      "cell_type": "markdown",
      "metadata": {
        "id": "view-in-github",
        "colab_type": "text"
      },
      "source": [
        "<a href=\"https://colab.research.google.com/github/lethingoctham/bt/blob/main/kiem_dinh_t.ipynb\" target=\"_parent\"><img src=\"https://colab.research.google.com/assets/colab-badge.svg\" alt=\"Open In Colab\"/></a>"
      ]
    },
    {
      "cell_type": "markdown",
      "metadata": {
        "id": "APlDiDmLtKdP"
      },
      "source": [
        "HƯỚNG DẪN SUY DIỄN THỐNG KÊ BẰNG GÓI STATS CỦA THƯ VIỆN SCIPY"
      ]
    },
    {
      "cell_type": "markdown",
      "metadata": {
        "id": "sZKZ_xW3tV0c"
      },
      "source": [
        "1.Các thư viện cần thiết"
      ]
    },
    {
      "cell_type": "code",
      "metadata": {
        "colab": {
          "base_uri": "https://localhost:8080/"
        },
        "id": "qYJrY3HptUe2",
        "outputId": "4f9b2389-2d1b-40ca-ba21-475538d09c5e"
      },
      "source": [
        "import numpy as np\n",
        "import pandas as pd\n",
        "import random\n",
        "from scipy import stats\n",
        "from statsmodels.stats.weightstats import ztest\n",
        "import warnings\n",
        "import matplotlib.pyplot as plt\n",
        "import seaborn as sns\n",
        "%matplotlib inline"
      ],
      "execution_count": 2,
      "outputs": [
        {
          "output_type": "stream",
          "text": [
            "/usr/local/lib/python3.7/dist-packages/statsmodels/tools/_testing.py:19: FutureWarning: pandas.util.testing is deprecated. Use the functions in the public API at pandas.testing instead.\n",
            "  import pandas.util.testing as tm\n"
          ],
          "name": "stderr"
        }
      ]
    },
    {
      "cell_type": "markdown",
      "metadata": {
        "id": "izoBzv6Fted_"
      },
      "source": [
        "2.Thiết lập định dạng hình ảnh"
      ]
    },
    {
      "cell_type": "code",
      "metadata": {
        "id": "OQI-FIsztkIY"
      },
      "source": [
        "sns.set(rc={'figure.figsize':(13, 7.5)})\n",
        "sns.set_context('talk')"
      ],
      "execution_count": 3,
      "outputs": []
    },
    {
      "cell_type": "markdown",
      "metadata": {
        "id": "HRsMiy4stlE8"
      },
      "source": [
        "3.Tắt các cảnh báo của scipy"
      ]
    },
    {
      "cell_type": "code",
      "metadata": {
        "id": "LjmeEY2ttolc"
      },
      "source": [
        "warnings.filterwarnings('ignore')"
      ],
      "execution_count": 4,
      "outputs": []
    },
    {
      "cell_type": "markdown",
      "metadata": {
        "id": "vGOaYmUekoFE"
      },
      "source": [
        "Một số lưu ý khi kiểm định giả thuyết trong thống kê suy diễn \n",
        "\n",
        "(1) Cỡ mẫu thường nhỏ ( n<30 ) để có ý nghĩa thống kê\n",
        "(2) Các mẫu quan sát được (sample observations) phải được lựa chọn ngẫu nhiên từ quần thể\n",
        "\n",
        "(3) Các đại lượng như trung bình mẫu (sample mean), độ lệch chuẩn của mẫu (standard deviation), phương sai mẫu (sample variance) được tính từ tập mẫu quan sát được.\n",
        "\n",
        "(4) Giả định rằng quần thể được nghiên cứu lấy mẫu xấp xỉ với phân phối chuẩn."
      ]
    },
    {
      "cell_type": "markdown",
      "metadata": {
        "id": "TY4Sic8ikzXw"
      },
      "source": [
        "1.Các bước thực hiện kiểm định giả thuyết (sử dụng kiểm định t)\n",
        "\n",
        "Bước 1: Thực hiện các phép đo, hay thu thập dữ liệu quan sát\n",
        "\n",
        "Bước 2: Phát biểu giả thuyết H0 và giả thuyết thay thế Ha\n",
        "\n",
        "Bước 3: Xác định mức α (hay khoảng tin cậy)\n",
        "\n",
        "Bước 4: Lấy mẫu và tính toán các đại lượng thống kê của mẫu\n",
        "\n",
        "Bước 5: Thực hiện kiểm định t (t-test)\n",
        "\n",
        "Bước 6: Kết luận dựa vào kết quả kiểm định"
      ]
    },
    {
      "cell_type": "markdown",
      "metadata": {
        "id": "la_Gs0uBuITj"
      },
      "source": [
        "KIỂM ĐỊNH GIẢ THUYẾT MỘT ĐUÔI\n",
        "\n",
        "1.Kỹ thuật sinh dữ liệu ngẫu nhiên\n",
        "Sinh các mẫu ngẫu nhiên lấy ra từ phân phối chuẩn bằng hàm random.normal() với các tham số:\n",
        "\n",
        "- mean: giá trị trung bình của quần thể\n",
        "\n",
        "- scale: độ lệch chuẩn của quần thể (không âm)\n",
        "\n",
        "- size: kích thước mẫu"
      ]
    },
    {
      "cell_type": "code",
      "metadata": {
        "id": "I2ArVykkuZSr"
      },
      "source": [
        "#Sinh ngẫu nhiên 28 mẫu tuân theo phân phối chuẩn có trung bình mẫu là 1 và độ lệch chuẩn là 0.1\n",
        "mean = 1\n",
        "std = 0.1\n",
        "N = 28\n",
        "samples = np.random.normal(mean, std, N)"
      ],
      "execution_count": 18,
      "outputs": []
    },
    {
      "cell_type": "code",
      "metadata": {
        "colab": {
          "base_uri": "https://localhost:8080/"
        },
        "id": "wanL3AYTu2dk",
        "outputId": "4d3b883c-fb60-49f8-a662-34ba652c6327"
      },
      "source": [
        "#In ra 10 phần tử đầu tiên\n",
        "print(samples[:10])"
      ],
      "execution_count": 19,
      "outputs": [
        {
          "output_type": "stream",
          "text": [
            "[1.07495051 0.92341959 1.21704991 0.93525817 0.99848719 1.08632852\n",
            " 0.93305772 1.03255978 1.15457639 1.0052903 ]\n"
          ],
          "name": "stdout"
        }
      ]
    },
    {
      "cell_type": "code",
      "metadata": {
        "colab": {
          "base_uri": "https://localhost:8080/"
        },
        "id": "Pi-DWBi5u7W6",
        "outputId": "58d31afc-e3d9-4842-b0fe-92bf9a757620"
      },
      "source": [
        "#In ra các giá trị max, min của samples\n",
        "print('Max: ', max(samples))\n",
        "print('Min: ', min(samples))"
      ],
      "execution_count": 20,
      "outputs": [
        {
          "output_type": "stream",
          "text": [
            "Max:  1.2170499106662054\n",
            "Min:  0.8290919132471412\n"
          ],
          "name": "stdout"
        }
      ]
    },
    {
      "cell_type": "code",
      "metadata": {
        "colab": {
          "base_uri": "https://localhost:8080/",
          "height": 385
        },
        "id": "nJaN_R2Bu-yC",
        "outputId": "19562ab4-f0c6-4a92-e971-37c89298b2fd"
      },
      "source": [
        "#Vẽ histogram của mẫu vừa được sinh ngẫu nhiên\n",
        "plt.hist(samples, 30, density=True)\n",
        "plt.show()"
      ],
      "execution_count": 21,
      "outputs": [
        {
          "output_type": "display_data",
          "data": {
            "image/png": "[encoded data removed]",
            "text/plain": [
              "<Figure size 936x540 with 1 Axes>"
            ]
          },
          "metadata": {
            "tags": []
          }
        }
      ]
    },
    {
      "cell_type": "code",
      "metadata": {
        "colab": {
          "base_uri": "https://localhost:8080/",
          "height": 385
        },
        "id": "00ReAjaZvHAC",
        "outputId": "6ba2d826-9389-492b-c9f6-87fd81002429"
      },
      "source": [
        "#Vẽ đường phân phối chuẩn cùng với histogram\n",
        "count, bins, ignored = plt.hist(samples, 30, density=True)\n",
        "plt.plot(bins, 1/(std * np.sqrt(2 * np.pi)) * np.exp( - (bins - mean)**2 / (2 * std**2) ),\n",
        "         linewidth=2, color='r')\n",
        "plt.show()"
      ],
      "execution_count": 22,
      "outputs": [
        {
          "output_type": "display_data",
          "data": {
            "image/png": "[encoded data removed]",
            "text/plain": [
              "<Figure size 936x540 with 1 Axes>"
            ]
          },
          "metadata": {
            "tags": []
          }
        }
      ]
    },
    {
      "cell_type": "code",
      "metadata": {
        "colab": {
          "base_uri": "https://localhost:8080/",
          "height": 553
        },
        "id": "H86RxMcWwJ4s",
        "outputId": "70e3acf9-1970-4fb3-e33d-694cd6dde6f6"
      },
      "source": [
        "#Sinh ngẫu nhiên 28 mẫu theo phân phối chuẩn có mean = 0 và std = 10\n",
        "samples = np.random.normal(loc=0, scale=10, size=28)\n",
        "#Minh họa một đuôi và mức alpha = 0.05\n",
        "two_std_from_mean = np.mean(samples) + np.std(samples)*1.645\n",
        "#kernel density\n",
        "kde = stats.gaussian_kde(samples)\n",
        "#Trả về 25 giá trị phân bố bằng nhau trong khoảng từ min tới max của samples \n",
        "pos = np.linspace(np.min(samples), np.max(samples), 25)\n",
        "plt.plot(pos, kde(pos), color='teal')\n",
        "shade = np.linspace(two_std_from_mean, 40, 300)\n",
        "plt.fill_between(shade, kde(shade), alpha=0.45, color='teal')\n",
        "plt.title(\"Phân phối mẫu của kiểm định giả thuyết 1 đuôi\", y=1.015, fontsize=20)\n",
        "plt.xlabel(\"giá trị trung bình mẫu\", labelpad=14)\n",
        "plt.ylabel(\"tần suất xuất hiện\", labelpad=14);"
      ],
      "execution_count": 23,
      "outputs": [
        {
          "output_type": "display_data",
          "data": {
            "image/png": "[encoded data removed]",
            "text/plain": [
              "<Figure size 936x540 with 1 Axes>"
            ]
          },
          "metadata": {
            "tags": []
          }
        }
      ]
    },
    {
      "cell_type": "markdown",
      "metadata": {
        "id": "-y7YGt4swqBx"
      },
      "source": [
        "2.Hình minh họa các kiểm định 1-đuôi, 2-đuôi"
      ]
    },
    {
      "cell_type": "code",
      "metadata": {
        "colab": {
          "base_uri": "https://localhost:8080/",
          "height": 321
        },
        "id": "-9tJTIy0wubv",
        "outputId": "99907a12-9cdd-412d-ca8e-51125b01335c"
      },
      "source": [
        "# Sử dụng hình minh họa\n",
        "from IPython.display import Image\n",
        "from IPython.core.display import HTML \n",
        "Image(url= \"https://media.geeksforgeeks.org/wp-content/uploads/20201028032933/Screenshot37.png\", width=300, height=300)"
      ],
      "execution_count": 24,
      "outputs": [
        {
          "output_type": "execute_result",
          "data": {
            "text/html": [
              "<img src=\"https://media.geeksforgeeks.org/wp-content/uploads/20201028032933/Screenshot37.png\" width=\"300\" height=\"300\"/>"
            ],
            "text/plain": [
              "<IPython.core.display.Image object>"
            ]
          },
          "metadata": {
            "tags": []
          },
          "execution_count": 24
        }
      ]
    },
    {
      "cell_type": "code",
      "metadata": {
        "colab": {
          "base_uri": "https://localhost:8080/",
          "height": 321
        },
        "id": "Ez3gWkJCxPN6",
        "outputId": "cb79c81e-b842-4d5e-83ef-167c428bc16a"
      },
      "source": [
        "Image(url= \"https://media.geeksforgeeks.org/wp-content/uploads/20201028032937/Screenshot39.png\", width=300, height=300)"
      ],
      "execution_count": 25,
      "outputs": [
        {
          "output_type": "execute_result",
          "data": {
            "text/html": [
              "<img src=\"https://media.geeksforgeeks.org/wp-content/uploads/20201028032937/Screenshot39.png\" width=\"300\" height=\"300\"/>"
            ],
            "text/plain": [
              "<IPython.core.display.Image object>"
            ]
          },
          "metadata": {
            "tags": []
          },
          "execution_count": 25
        }
      ]
    },
    {
      "cell_type": "code",
      "metadata": {
        "colab": {
          "base_uri": "https://localhost:8080/",
          "height": 321
        },
        "id": "l8GgDg2IxVaq",
        "outputId": "8ccef968-2812-4732-b5c5-24fd51a5d680"
      },
      "source": [
        "Image(url= \"https://media.geeksforgeeks.org/wp-content/uploads/20201028032935/Screenshot38.png\", width=300, height=300)"
      ],
      "execution_count": 26,
      "outputs": [
        {
          "output_type": "execute_result",
          "data": {
            "text/html": [
              "<img src=\"https://media.geeksforgeeks.org/wp-content/uploads/20201028032935/Screenshot38.png\" width=\"300\" height=\"300\"/>"
            ],
            "text/plain": [
              "<IPython.core.display.Image object>"
            ]
          },
          "metadata": {
            "tags": []
          },
          "execution_count": 26
        }
      ]
    },
    {
      "cell_type": "markdown",
      "metadata": {
        "id": "CyDTgy8t4K2M"
      },
      "source": [
        "\n",
        "\n",
        "1.Xây dựng một kiểm định t cụ thể với số liệu được sinh ngẫu nhiên theo phân phối chuẩn"
      ]
    },
    {
      "cell_type": "markdown",
      "metadata": {
        "id": "K5uH5Cn_4gI9"
      },
      "source": [
        "Bài toán: Cân 15 con thỏ ở một trại chăn nuôi khi xuất chuồng ta tính được $\\overline{\\rm x} = 3.62$kg. Cho biết $\\sigma = 0.1$. Chủ trại cho biết trọng lượng trung bình của thỏ là 3,5 kg thì có tin được không với mức ý nghĩa là $\\alpha = 1$%\n",
        "\n",
        "Xây dựng giả thuyết\n",
        "\n",
        "$$H_{0}: \\mu = 3.5$$\n",
        "\n",
        "Giả thuyết thay thế: \n",
        "$$H_{a}: \\mu =  3.5 $$\n",
        "$$H_{a}: \\mu_ \\neq 3.5$$\n",
        "\n",
        "Với: \n",
        "- Hệ số sig =0.01\n",
        "- Chỉ số tương ứng với hệ số sig ở trên là 2.58\n",
        "Công thức:\n",
        "$$Z = \\frac{(\\overline{\\rm x} - \\mu)}{(\\sigma / \\sqrt{n})}$$\n",
        "\n",
        "Áp dụng với các giá trị nêu trên:\n",
        "\n",
        "- $\\overline{\\rm X} =3.62 $kg\n",
        "- $\\mu = 3.5$\n",
        "- $\\sigma =0.1 $\n",
        "- $\\alpha =0.01 $\n",
        "- $n =15$\n",
        "\n",
        "$$t = \\frac{(3.62 - 3.5)}{(0.1 / \\sqrt{15})} = 4.6$$\n",
        "\n",
        "Giá trị z = 4.6 > 2.58 nên có bằng chứng để bác bỏ giả thuyết $H_{0}$\n"
      ]
    },
    {
      "cell_type": "markdown",
      "metadata": {
        "id": "cgYZrZDPAsC7"
      },
      "source": [
        "Lập trình Python cho bài toán nêu trên"
      ]
    },
    {
      "cell_type": "code",
      "metadata": {
        "colab": {
          "base_uri": "https://localhost:8080/"
        },
        "id": "DVHOkRGy4KhW",
        "outputId": "c8312e82-0a2f-4ff4-a9cc-05cf2a48a721"
      },
      "source": [
        "#Sinh ngẫu nhiên một mẫu 15 phần tử có trung bình mẫu là 3.62, độ lệch chuẩn là 0.1\n",
        "sample1 = np.random.normal(3.62, 0.1, 15)\n",
        "print(sample1)"
      ],
      "execution_count": 7,
      "outputs": [
        {
          "output_type": "stream",
          "text": [
            "[3.67879425 3.55770223 3.4693244  3.58219659 3.46199973 3.66541552\n",
            " 3.59519847 3.73660855 3.59631554 3.50816074 3.51706833 3.64690295\n",
            " 3.6463834  3.64658835 3.67703966]\n"
          ],
          "name": "stdout"
        }
      ]
    },
    {
      "cell_type": "code",
      "metadata": {
        "id": "Fz9W9EkXlYRQ"
      },
      "source": [
        "#Xác định các thông số\n",
        "null_mean = 3.5\n",
        "alpha = 0.01"
      ],
      "execution_count": 9,
      "outputs": []
    },
    {
      "cell_type": "code",
      "metadata": {
        "colab": {
          "base_uri": "https://localhost:8080/"
        },
        "id": "jncb3iXwlcMg",
        "outputId": "f14760bd-b8df-4ffa-f711-981b2061f5b0"
      },
      "source": [
        "#Kiểm định t\n",
        "import statsmodels\n",
        "ttest, p_value = stats.ttest_1samp(sample1, null_mean)\n",
        "print('t = ', ttest, '; p = ', p_value)\n",
        "if(p_value <  alpha):\n",
        "  print(\"Có bằng chứng để bác bỏ giả thuyết H0\")\n",
        "else:\n",
        "  print(\"Chưa có bằng chứng để bác bỏ giả thuyết H0\")"
      ],
      "execution_count": 8,
      "outputs": [
        {
          "output_type": "stream",
          "text": [
            "t =  4.6526884637676496 ; p =  0.0003731759063615864\n",
            "Có bằng chứng để bác bỏ giả thuyết H0\n"
          ],
          "name": "stdout"
        }
      ]
    },
    {
      "cell_type": "markdown",
      "metadata": {
        "id": "FRx0yfD6BDOM"
      },
      "source": [
        "Kiểm định giả thuyết 2-đuôi\n",
        "\n",
        "Một cách tổng quát, giả sử chúng ta có 2 quần thể độc lập và tuân theo phân phối chuẩn. Lấy ra 2 mẫu ngẫu nhiên tử 2 quần thể này.\n",
        "\n",
        "Xây dựng giả thuyết:\n",
        "\n",
        "$$H_{0}: \\mu_{1} = \\mu_{2}$$\n",
        "\n",
        "Giả thuyết thay thế:\n",
        "\n",
        "$$H_{a}: \\mu_{1} \\neq \\mu_{2}$$\n",
        "\n",
        "Thực hiện kiểm định t và so sánh với giá trị $t_{\\frac{\\alpha}{2}}$ để đi đến kết luận cuối cùng.\n",
        "\n",
        "Bài Toán: Đo đường kính 15 trục máy do máy A sản xuất và 17 trục máy do máy B sản xuất ta tính được $\\overline{\\rm x_{1}} =251$, 7; $s_{1}$ = 52, 853 và $\\overline{\\rm x_{2}} =249.8$; $s_{1}$ = 56.2. Mức ý nghĩa 1%.\n",
        "\n",
        "Kiểm định t 2 đuôi"
      ]
    },
    {
      "cell_type": "code",
      "metadata": {
        "colab": {
          "base_uri": "https://localhost:8080/"
        },
        "id": "X1sLWwOrIvSn",
        "outputId": "94b965d1-8ba3-4e53-e2d8-2529389e0e91"
      },
      "source": [
        "#Lập trình python minh họa\n",
        "#Sinh ngẫu nhiên sample A có 15 phần tử với mean = 251, std có hiệu chỉnh = 52,853\n",
        "samples_A = np.random.normal(251, 52.853, 15)\n",
        "print(samples_A)"
      ],
      "execution_count": 10,
      "outputs": [
        {
          "output_type": "stream",
          "text": [
            "[222.66853872 312.19025453 237.20934668 270.25985403 223.41393862\n",
            " 169.96708835 229.92760764 281.01590399 149.75790732 235.24717753\n",
            " 268.33755327 182.68819693 234.09073146 260.09309404 295.43759527]\n"
          ],
          "name": "stdout"
        }
      ]
    },
    {
      "cell_type": "code",
      "metadata": {
        "colab": {
          "base_uri": "https://localhost:8080/"
        },
        "id": "IIDLoZ0sI7hW",
        "outputId": "48b4c814-16e2-4ddc-f102-828bb8d0c01e"
      },
      "source": [
        "#Sinh ngẫu nhiên sample B có 17 phần tử với mean = 249.2 std = 56.2\n",
        "samples_B = np.random.normal(249.2, 56.2, 17)\n",
        "print(samples_B)"
      ],
      "execution_count": 11,
      "outputs": [
        {
          "output_type": "stream",
          "text": [
            "[268.06504874 181.09155549 341.14907745 297.25374817 238.94047029\n",
            " 258.40751087 362.16569917 197.6961878  278.21823714 218.77318598\n",
            " 349.71223205 216.73275794 272.97629429 234.07749111 185.13005444\n",
            " 321.92126568 173.30937475]\n"
          ],
          "name": "stdout"
        }
      ]
    },
    {
      "cell_type": "code",
      "metadata": {
        "colab": {
          "base_uri": "https://localhost:8080/"
        },
        "id": "8R0dkvBrJGhw",
        "outputId": "ca0e5d27-9a64-41c0-f0f2-0357913d9b3c"
      },
      "source": [
        "#Kiểm định giả thuyết\n",
        "#T-test cho phương tiện của hai mẫu độc lập từ thống kê mô tả. Từ bài toán trên\n",
        "alpha1 = 0.01\n",
        "ttest_score, p_value = stats.ttest_ind_from_stats(mean1 = 251, mean2 = 249.2, std1 = 52.853, std2 = 56.2, nobs1 = 15, nobs2 = 17)\n",
        "print('t = ', ttest_score, '; p = ', p_value)\n",
        "if(p_value <  alpha1):\n",
        "  print(\"Có bằng chứng để bác bỏ giả thuyết H0\")\n",
        "else:\n",
        "  print(\"Chưa có bằng chứng để bác bỏ giả thuyết H0\")"
      ],
      "execution_count": 19,
      "outputs": [
        {
          "output_type": "stream",
          "text": [
            "t =  0.09295431850582912 ; p =  0.9265578548372626\n",
            "Chưa có bằng chứng để bác bỏ giả thuyết H0\n"
          ],
          "name": "stdout"
        }
      ]
    },
    {
      "cell_type": "code",
      "metadata": {
        "colab": {
          "base_uri": "https://localhost:8080/"
        },
        "id": "goqJ1xlBKG4m",
        "outputId": "37de99f1-5bc5-4d0e-8976-425207720f5f"
      },
      "source": [
        "#Kiểm định giả thuyết:\n",
        "#Tính toán kiểm tra T cho giá trị trung bình của hai mẫu điểm độc lập . \n",
        "alpha1 = 0.01\n",
        "ttest_score1, p_value1 = stats.ttest_ind(samples_A, samples_B, axis=0, equal_var=True, nan_policy='propagate')\n",
        "print('t_score = ', ttest_score1, '; p_value = ', p_value1)\n",
        "if(p_value <  alpha1):\n",
        "  print(\"Có bằng chứng để bác bỏ giả thuyết H0\")\n",
        "else:\n",
        "  print(\"Chưa có bằng chứng để bác bỏ giả thuyết H0\")"
      ],
      "execution_count": 20,
      "outputs": [
        {
          "output_type": "stream",
          "text": [
            "t_score =  -1.0647820383545057 ; p_value =  0.2954699421736512\n",
            "Chưa có bằng chứng để bác bỏ giả thuyết H0\n"
          ],
          "name": "stdout"
        }
      ]
    }
  ]
}