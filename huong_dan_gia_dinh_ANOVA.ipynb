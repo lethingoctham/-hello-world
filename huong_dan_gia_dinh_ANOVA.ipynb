{
 "cells": [
  {
   "cell_type": "markdown",
   "metadata": {
    "id": "iU873LNZogn3"
   },
   "source": [
    "PHÂN TÍCH ANOVA MỘT CHIỀU\n",
    "\n",
    "Phân tích ANOVA chấp nhận các giả định sau:\n",
    "\n",
    "(1) Tất cả các nhóm đều độc lập với nhau\n",
    "\n",
    "(2) Dữ liệu của mỗi nhóm đều tuân theo phân phối chuẩn. Tính chất này có thể được kiểm định bằng phương pháp Shapiro-Wilks.\n",
    "\n",
    "(3) Phương sai (variance) của các nhóm bằng nhau. Tính chất này có thể được kiểm định bằng phương pháp kiểm định Bartlett hay Levene.\n",
    "\n",
    "Nếu dữ liệu hiện có thỏa mãn các tính chất trên thì chúng ta mới tiến hành kiểm định ANOVA. Do vậy trước khi tiến hành kiểm định ANOVA, chúng ta cần thực hiện kiểm tra tập dữ liệu cần thỏa mãn 3 tính chất trên.\n",
    "    "
   ]
  },
  {
   "cell_type": "code",
   "execution_count": 1,
   "metadata": {
    "id": "nHrd2JeClFSi"
   },
   "outputs": [],
   "source": [
    "import numpy as np\n",
    "import pandas as pd\n",
    "from scipy import stats\n",
    "from scipy.stats import bartlett"
   ]
  },
  {
   "cell_type": "code",
   "execution_count": 2,
   "metadata": {
    "colab": {
     "base_uri": "https://localhost:8080/"
    },
    "id": "dp3FXbmfogoM",
    "outputId": "c17a5c8b-115c-4957-d02c-105d039319fb"
   },
   "outputs": [
    {
     "name": "stdout",
     "output_type": "stream",
     "text": [
      "[19.84836851 19.88250489 19.84291088 19.80633709 19.9423115  20.2299211\n",
      " 20.14552742 19.9857522  19.98534357 20.08204307]\n"
     ]
    }
   ],
   "source": [
    "#Bước 1: Hãy tạo một tập dữ liệu mẫu sample_1 với kích thước 100 tuân theo phân phối chuẩn, cho mean = 20, std = 0.2\n",
    "sample_1 = stats.norm.rvs(loc=20, scale=0.2, size=100)\n",
    "print(sample_1[:10])"
   ]
  },
  {
   "cell_type": "code",
   "execution_count": 3,
   "metadata": {
    "colab": {
     "base_uri": "https://localhost:8080/"
    },
    "id": "ardfzPacogoP",
    "outputId": "0fdf40c0-3d2c-4e79-9793-238688ace3ed"
   },
   "outputs": [
    {
     "name": "stdout",
     "output_type": "stream",
     "text": [
      "[35 36 35 37 36 35 36 36 36 35]\n"
     ]
    }
   ],
   "source": [
    "#Bước 2: hãy tạo tập dữ liệu mẫu sample_2 với kích thước 100 tuân theo phân phối Poisson\n",
    "sample_2 = stats.poisson.rvs(loc=35, mu = 1, size = 100)\n",
    "print(sample_2[:10])"
   ]
  },
  {
   "cell_type": "markdown",
   "metadata": {
    "id": "KYW_MYYLogoQ"
   },
   "source": [
    "Hãy tham khảo các hướng dẫn sau để kiểm định tính chất thứ 2 bằng phương pháp Shapiro-Wilks đối với sample_1 và sample_2\n",
    "\n",
    "(1) [Tài liệu tham khảo scipy](https://docs.scipy.org/doc/scipy/reference/generated/scipy.stats.shapiro.html)\n",
    "\n",
    "(2) [Hướng dẫn cụ thể của statology](https://www.statology.org/shapiro-wilk-test-python/)"
   ]
  },
  {
   "cell_type": "code",
   "execution_count": 4,
   "metadata": {
    "colab": {
     "base_uri": "https://localhost:8080/"
    },
    "id": "-DlWA2JiogoS",
    "outputId": "7d5b3e1c-026a-4847-86c3-74b35b7a89cd"
   },
   "outputs": [
    {
     "name": "stdout",
     "output_type": "stream",
     "text": [
      "Kiểm định Shapiro-Wilk để xem mẫu có tuân theo phân phối chuẩn\n",
      "Statistic = 0.9876986145973206 \n",
      " p value = 0.4862593710422516\n",
      "-----------------------------------------\n",
      "Kiểm định Shapiro-Wilk để xem mẫu có tuân theo phân phối Poisson\n",
      "Statistic = 0.8056315183639526 \n",
      " p value = 3.700748874013726e-10\n"
     ]
    }
   ],
   "source": [
    "#Code kiểm định tính chất thứ 2 của sample_1 và sample_2\n",
    "# Kiểm định Shapiro-Wilk để xác định xem một mẫu có đến từ phân phối chuẩn hay không.\n",
    "print(\"Kiểm định Shapiro-Wilk để xem mẫu có tuân theo phân phối chuẩn\")\n",
    "shapiro_test1 = stats.shapiro(sample_1) \n",
    "print(\"Statistic =\", shapiro_test1[0], \"\\n\",\n",
    "      \"p value =\", shapiro_test1[1])\n",
    "print(\"-----------------------------------------\")\n",
    "\n",
    "print(\"Kiểm định Shapiro-Wilk để xem mẫu có tuân theo phân phối Poisson\")\n",
    "shapiro_test2 = stats.shapiro(sample_2)\n",
    "print(\"Statistic =\", shapiro_test2[0], \"\\n\",\n",
    "      \"p value =\", shapiro_test2[1])"
   ]
  },
  {
   "cell_type": "markdown",
   "metadata": {
    "id": "-5vyG_KxogoT"
   },
   "source": [
    "Hãy tham khảo các hướng dẫn sau để kiểm định tính chất thứ 3 bằng kiểm định Bartlett hoặc kiểm định Levene\n",
    "\n",
    "(1) [Hướng dẫn tổng quát](https://www.marsja.se/levenes-bartletts-test-of-equality-homogeneity-of-variance-in-python/)\n",
    "\n",
    "(2) [Hướng dẫn ở stackoverflow](https://stackoverflow.com/questions/36141254/how-to-test-for-homoscedasticity-having-the-same-population-variance-in-python)\n",
    "\n",
    "(3) Sử dụng bài giảng về kiểm định Bartlett và Levene ở buổi trước"
   ]
  },
  {
   "cell_type": "code",
   "execution_count": null,
   "metadata": {
    "id": "7R-WVJPMogoW"
   },
   "outputs": [],
   "source": [
    "#Code kiểm định tính đồng nhất về phương sai của các nhóm"
   ]
  },
  {
   "cell_type": "markdown",
   "metadata": {
    "id": "AHsoHn-vovy0"
   },
   "source": [
    "Example: An University have 4 Majors: Business, Psych, Math, English. We will consider the level of frustration of 100 students with each major.\n",
    "\n",
    "- $\\mu_{1}$ : level of frustration of Business Majors\n",
    "- $\\mu_{2}$ : level of frustration of English Majors\n",
    "- $\\mu_{3}$ : level of frustration of Math Majors\n",
    "- $\\mu_{4}$ : level of frustration of Psych Majors\n",
    "\n",
    "The size of each sample is 35. Assume that Y(level of\n",
    "frustration) = 10\n",
    "\n",
    "- Xây dựng giả thuyết:  H0:μ1=μ2=μ3=μ4\n",
    "\n",
    "- Giả thuyết thay thế:  Ha: Có ít nhất một cặp có giá trị không bằng nhau"
   ]
  },
  {
   "cell_type": "code",
   "execution_count": 7,
   "metadata": {
    "colab": {
     "base_uri": "https://localhost:8080/"
    },
    "id": "brrM0oyJo8Oz",
    "outputId": "937b8471-104b-45d3-f0ed-a20d757cf697"
   },
   "outputs": [
    {
     "name": "stdout",
     "output_type": "stream",
     "text": [
      "   Business Majors  English Majors  Math Majors  Psych Majors\n",
      "0                4               5            2             4\n",
      "1                4               7            7             4\n",
      "2                8               2            4             2\n",
      "3                4               8            4             9\n",
      "4                9               6            6             8\n"
     ]
    }
   ],
   "source": [
    "#Sinh ngẫu nhiên\n",
    "Business = np.random.choice(10, 35)\n",
    "Math = np.random.choice(10, 35)\n",
    "English = np.random.choice(10, 35)\n",
    "Psych = np.random.choice(10, 35)\n",
    "#Tạo dataframe\n",
    "list_of_tuples = list(zip(Business, English, Math, Psych))\n",
    "df2 = pd.DataFrame(list_of_tuples, columns = [\"Business Majors\", \"English Majors\", \"Math Majors\", \"Psych Majors\"])\n",
    "print(df2.head())\n",
    "#Lấy từng nhóm\n",
    "Bus = df2['Business Majors']\n",
    "Eng = df2['English Majors']\n",
    "Math = df2['Math Majors']\n",
    "Psy = df2['Psych Majors']\n",
    "alpha = 0.05\n"
   ]
  },
  {
   "cell_type": "code",
   "execution_count": 6,
   "metadata": {
    "colab": {
     "base_uri": "https://localhost:8080/"
    },
    "id": "2y4mRKTgogoX",
    "outputId": "15c75df0-6c26-44be-90d4-23233c109754"
   },
   "outputs": [
    {
     "name": "stdout",
     "output_type": "stream",
     "text": [
      "Statistic = 2.595715916722703 \n",
      " p value = 0.4582410970697368\n",
      "Có bằng chứng thống kê để bác bỏ H0\n",
      "PS của Bus = 9.352941176470589 \n",
      " PS của Eng = 5.652100840336135 \n",
      " PS của Math = 9.173109243697478 \n",
      " PS của Psy = 7.7025210084033615 \n",
      "\n"
     ]
    }
   ],
   "source": [
    "#Kiểm định bằng bartlett\n",
    "stat, pvalue = stats.bartlett(Bus, Eng, Math, Psy)\n",
    "print(\"Statistic =\", stat, \"\\n\",\n",
    "      \"p value =\", pvalue)\n",
    "if pvalue < alpha:\n",
    "  print(\"Chưa có bằng chứng thống kê để bác bỏ H0\")\n",
    "else:\n",
    "  print(\"Có bằng chứng thống kê để bác bỏ H0\")\n",
    "  #Xem phương sai của từng biến\n",
    "  b, e, m, p = [np.var(x, ddof=1) for x in [Bus, Eng, Math, Psy]]\n",
    "  print(\"PS của Bus =\", b, \"\\n\",\n",
    "      \"PS của Eng =\", e, \"\\n\",\n",
    "      \"PS của Math =\", m, \"\\n\",\n",
    "      \"PS của Psy =\", p, \"\\n\",)"
   ]
  },
  {
   "cell_type": "code",
   "execution_count": null,
   "metadata": {
    "colab": {
     "base_uri": "https://localhost:8080/"
    },
    "id": "IcTfFc03o_z6",
    "outputId": "9d8907f4-50eb-46a3-e04a-7cdf4b7ea404"
   },
   "outputs": [
    {
     "name": "stdout",
     "output_type": "stream",
     "text": [
      "Statistic = 0.35442424242424253 \n",
      " p value = 0.7860085039920268\n",
      "Có bằng chứng thống kê để bác bỏ H0\n",
      "PS của Bus = 9.349579831932777 \n",
      " PS của Eng = 8.067226890756302 \n",
      " PS của Math = 8.652100840336134 \n",
      " PS của Psy = 9.137815126050421 \n",
      "\n"
     ]
    }
   ],
   "source": [
    "#Kiểm định bằng Levene\n",
    "stat1, pvalue1 = stats.levene(Bus, Eng, Math, Psy)\n",
    "print(\"Statistic =\", stat1, \"\\n\",\n",
    "      \"p value =\", pvalue1)\n",
    "if pvalue1 < alpha:\n",
    "  print(\"Chưa có bằng chứng thống kê để bác bỏ H0\")\n",
    "else:\n",
    "  print(\"Có bằng chứng thống kê để bác bỏ H0\")\n",
    "  #Xem phương sai của từng biến\n",
    "  b, e, m, p = [np.var(x, ddof=1) for x in [Bus, Eng, Math, Psy]]\n",
    "  print(\"PS của Bus =\", b, \"\\n\",\n",
    "      \"PS của Eng =\", e, \"\\n\",\n",
    "      \"PS của Math =\", m, \"\\n\",\n",
    "      \"PS của Psy =\", p, \"\\n\",)"
   ]
  },
  {
   "cell_type": "code",
   "execution_count": null,
   "metadata": {
    "id": "pt4zesqgpD45"
   },
   "outputs": [],
   "source": []
  }
 ],
 "metadata": {
  "colab": {
   "name": "huong-dan-gia-dinh-ANOVA.ipynb",
   "provenance": []
  },
  "kernelspec": {
   "display_name": "Python 3",
   "language": "python",
   "name": "python3"
  },
  "language_info": {
   "codemirror_mode": {
    "name": "ipython",
    "version": 3
   },
   "file_extension": ".py",
   "mimetype": "text/x-python",
   "name": "python",
   "nbconvert_exporter": "python",
   "pygments_lexer": "ipython3",
   "version": "3.8.5"
  }
 },
 "nbformat": 4,
 "nbformat_minor": 1
}
