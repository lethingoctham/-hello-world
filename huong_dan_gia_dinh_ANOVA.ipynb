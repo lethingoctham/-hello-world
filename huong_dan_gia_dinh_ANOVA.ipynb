{
  "nbformat": 4,
  "nbformat_minor": 0,
  "metadata": {
    "kernelspec": {
      "display_name": "Python 3",
      "language": "python",
      "name": "python3"
    },
    "language_info": {
      "codemirror_mode": {
        "name": "ipython",
        "version": 3
      },
      "file_extension": ".py",
      "mimetype": "text/x-python",
      "name": "python",
      "nbconvert_exporter": "python",
      "pygments_lexer": "ipython3",
      "version": "3.7.3"
    },
    "colab": {
      "name": "huong-dan-gia-dinh-ANOVA.ipynb",
      "provenance": [],
      "include_colab_link": true
    }
  },
  "cells": [
    {
      "cell_type": "markdown",
      "metadata": {
        "id": "view-in-github",
        "colab_type": "text"
      },
      "source": [
        "<a href=\"https://colab.research.google.com/github/lethingoctham/bt/blob/main/huong_dan_gia_dinh_ANOVA.ipynb\" target=\"_parent\"><img src=\"https://colab.research.google.com/assets/colab-badge.svg\" alt=\"Open In Colab\"/></a>"
      ]
    },
    {
      "cell_type": "markdown",
      "metadata": {
        "id": "2ZTNZUdytHe-"
      },
      "source": [
        "PHÂN TÍCH ANOVA MỘT CHIỀU\n",
        "\n",
        "Phân tích ANOVA chấp nhận các giả định sau:\n",
        "\n",
        "(1) Tất cả các nhóm đều độc lập với nhau\n",
        "\n",
        "(2) Dữ liệu của mỗi nhóm đều tuân theo phân phối chuẩn. Tính chất này có thể được kiểm định bằng phương pháp Shapiro-Wilks.\n",
        "\n",
        "(3) Phương sai (variance) của các nhóm bằng nhau. Tính chất này có thể được kiểm định bằng phương pháp kiểm định Bartlett hay Levene.\n",
        "\n",
        "Nếu dữ liệu hiện có thỏa mãn các tính chất trên thì chúng ta mới tiến hành kiểm định ANOVA. Do vậy trước khi tiến hành kiểm định ANOVA, chúng ta cần thực hiện kiểm tra tập dữ liệu cần thỏa mãn 3 tính chất trên.\n",
        "    "
      ]
    },
    {
      "cell_type": "code",
      "metadata": {
        "id": "oQipaB8VtMDZ"
      },
      "source": [
        
       "import numpy as np\n",
        "import pandas as pd\n",
        "from scipy import stats\n",
        "from scipy.stats import bartlett"
      ],
      "execution_count": 2,
      "outputs": []
    },
    {
      "cell_type": "code",
      "metadata": {
        "id": "E3k-YpVutHfE",
        "outputId": "e2498fb5-63b5-49a6-a8cd-3d479a44394a",
        "colab": {
          "base_uri": "https://localhost:8080/"
        }
      },
      "source": [
        "#Bước 1: Hãy tạo một tập dữ liệu mẫu sample_1 với kích thước 100 tuân theo phân phối chuẩn\n",
        "# cho mean= 40, std = 0.2\n",
        "sample_1 = stats.norm.rvs(loc= 40, scale= 0.2, size=100)\n",
        "print(sample_1[:10])"
      ],
      "execution_count": 3,
      "outputs": [
        {
          "output_type": "stream",
          "text": [
            "[40.40915355 40.11400368 39.96976304 39.77255387 40.33257161 39.9134067\n",
            " 40.36649482 40.35675843 40.10551875 40.04691363]\n"
          ],
          "name": "stdout"
        }
      ]
    },
    {
      "cell_type": "code",
      "metadata": {
        "id": "H4G6Sv97tHfF",
        "outputId": "3aae9b69-1bbd-4a33-b59c-a8d9ddfdc011",
        "colab": {
          "base_uri": "https://localhost:8080/"
        }
      },
      "source": [
        "#Bước 2: hãy tạo tập dữ liệu mẫu sample_2 với kích thước 100 tuân theo phân phối Poisson\n",
        "sample_2 = stats.poisson.rvs(loc=40, mu=1, size= 100)\n",
        "print(sample_2[:10])"
      ],
      "execution_count": 7,
      "outputs": [
        {
          "output_type": "stream",
          "text": [
            "[41 40 40 40 40 41 42 42 41 40]\n"
          ],
          "name": "stdout"
        }
      ]
    },
    {
      "cell_type": "markdown",
      "metadata": {
        "id": "6EusCMzZtHfF"
      },
      "source": [
        "Hãy tham khảo các hướng dẫn sau để kiểm định tính chất thứ 2 bằng phương pháp Shapiro-Wilks đối với sample_1 và sample_2\n",
        "\n",
        "(1) [Tài liệu tham khảo scipy](https://docs.scipy.org/doc/scipy/reference/generated/scipy.stats.shapiro.html)\n",
        "\n",
        "(2) [Hướng dẫn cụ thể của statology](https://www.statology.org/shapiro-wilk-test-python/)"
      ]
    },
    {
      "cell_type": "code",
      "metadata": {
        "id": "baha2-7HtHfG",
        "outputId": "ed4f8dcb-2eb4-4aae-f13b-fc246c47521f",
        "colab": {
          "base_uri": "https://localhost:8080/"
        }
      },
      "source": [
        "#Code kiểm định tính chất thứ 2 của sample_1 và sample_2\n",
        "print(\" Shapiro-Wilk  theo phân phối chuẩn poisson\")\n",
        "shapiro_test1 = stats.shapiro(sample_1) \n",
        "print(\"Statistic =\", shapiro_test1[0], \"\\n\",\n",
        "      \"p value =\", shapiro_test1[1])\n",
        "print(\"-----------------------------------------\")\n",
        "\n",
        "print(\" Shapiro-Wilk theo phân phối Poisson\")\n",
        "shapiro_test2 = stats.shapiro(sample_2)\n",
        "print(\"Statistic =\", shapiro_test2[0], \"\\n\",\n",
        "      \"p value =\", shapiro_test2[1])"
      ],
      "execution_count": 10,
      "outputs": [
        {
          "output_type": "stream",
          "text": [
            "Shapiro-Wilk theo phân phối chuẩn poisson\n",
            "Statistic = 0.9922998547554016 \n",
            " p value = 0.8425001502037048\n",
            "-----------------------------------------\n",
            " Shapiro-Wilk theo phân phối Poisson\n",
            "Statistic = 0.8111801147460938 \n",
            " p value = 5.540375380697071e-10\n"
          ],
          "name": "stdout"
        }
      ]
    },
    {
      "cell_type": "markdown",
      "metadata": {
        "id": "pOABu8MatHfG"
      },
      "source": [
        "Hãy tham khảo các hướng dẫn sau để kiểm định tính chất thứ 3 bằng kiểm định Bartlett hoặc kiểm định Levene\n",
        "\n",
        "(1) [Hướng dẫn tổng quát](https://www.marsja.se/levenes-bartletts-test-of-equality-homogeneity-of-variance-in-python/)\n",
        "\n",
        "(2) [Hướng dẫn ở stackoverflow](https://stackoverflow.com/questions/36141254/how-to-test-for-homoscedasticity-having-the-same-population-variance-in-python)\n",
        "\n",
        "(3) Sử dụng bài giảng về kiểm định Bartlett và Levene ở buổi trước"
      ]
    },
    {
      "cell_type": "code",
      "metadata": {
        "id": "lvIO9tl6tHfG",
        "outputId": "8b3e2637-5bc3-4b94-a406-20d1cf38cb1f",
        "colab": {
          "base_uri": "https://localhost:8080/"
        }
      },
      "source": [
        "#Code kiểm định tính đồng nhất về phương sai của các nhóm\n",
        "#Sinh ngẫu nhiên\n",
        "Business = np.random.choice(10, 35)\n",
        "Math = np.random.choice(10, 35)\n",
        "English = np.random.choice(10, 35)\n",
        "Psych = np.random.choice(10, 35)\n",
        "#Tạo dataframe\n",
        "list_of_tuples = list(zip(Business, English, Math, Psych))\n",
        "df2 = pd.DataFrame(list_of_tuples, columns = [\"Business Majors\", \"English Majors\", \"Math Majors\", \"Psych Majors\"])\n",
        "print(df2.head())\n",
        "#Lấy từng nhóm\n",
        "Bus = df2['Business Majors'].unique()\n",
        "Eng = df2['English Majors'].unique()\n",
        "Math = df2['Math Majors'].unique()\n",
        "Psy = df2['Psych Majors'].unique()\n",
        "alpha = 0.05"
      ],
      "execution_count": 11,
      "outputs": [
        {
          "output_type": "stream",
          "text": [
            "   Business Majors  English Majors  Math Majors  Psych Majors\n",
            "0                7               5            3             6\n",
            "1                0               1            1             1\n",
            "2                1               6            9             1\n",
            "3                0               8            6             1\n",
            "4                2               4            1             8\n"
          ],
          "name": "stdout"
        }
      ]
    },
    {
      "alpha = 0.05"
      "cell_type": "code",
      "metadata": {
        "id": "alwiSLXr1rXK",
        "outputId": "2b8268f3-cd3c-4367-99a1-9a1b00cc5b6d",
        "colab": {
          "base_uri": "https://localhost:8080/"
        }
      },
      "source": [
        "#Kiểm định bằng Levene\n",
        "stat1, pvalue1 = stats.levene(Bus, Eng, Math, Psy)\n",
        "print(\"Statistic =\", stat1, \"\\n\",\n",
        "      \"p value =\", pvalue1)\n",
        "if pvalue1 < alpha:\n",
        "  print(\"Các quần thể không có phương sai bằng nhau\")\n",
        "else:\n",
        "  print(\"Các quần thể có phương sai bằng nhau\")\n",
        "  #Xem phương sai của từng biến\n",
        "  b, e, m, p = [np.var(x, ddof=1) for x in [Bus, Eng, Math, Psy]]\n",
        "  print(\"PS của Bus =\", b, \"\\n\",\n",
        "      \"PS của Eng =\", e, \"\\n\",\n",
        "      \"PS của Math =\", m, \"\\n\",\n",
        "      \"PS của Psy =\", p, \"\\n\",)"
      ],
      "execution_count": 12,
      "outputs": [
        {
          "output_type": "stream",
          "text": [
            "Statistic = 0.003031878031878011 \n",
            " p value = 0.9997650827523107\n",
            "Các quần thể có phương sai bằng nhau\n",
            "PS của Bus = 10.0 \n",
            " PS của Eng = 9.166666666666666 \n",
            " PS của Math = 9.166666666666666 \n",
            " PS của Psy = 9.166666666666666 \n",
            "\n"
          ],
          "name": "stdout"
        }
      ]
    },
    {
      "cell_type": "code",
      "metadata": {
        "id": "UJ_pWX0PtHfG",
        "outputId": "b4489d8f-e7e1-48cb-a0d0-3e5cdfdeeb3e",
        "colab": {
          "base_uri": "https://localhost:8080/"
        }
      },
      "source": [
        "##Kiểm định bằng bartlett\n",
        "stat, pvalue = stats.bartlett(Bus, Eng, Math, Psy)\n",
        "print(\"Statistic =\", stat, \"\\n\",\n",
        "      \"p value =\", pvalue)\n",
        "if pvalue1 < alpha:\n",
        "  print(\"Các quần thể không có phương sai bằng nhau\")\n",
        "else:\n",
        "  print(\"Các quần thể có phương sai bằng nhau\")\n",
        "  #Xem phương sai của từng biến\n",
        "  b, e, m, p = [np.var(x, ddof=1) for x in [Bus, Eng, Math, Psy]]\n",
        "  print(\"PS của Bus =\", b, \"\\n\",\n",
        "      \"PS của Eng =\", e, \"\\n\",\n",
        "      \"PS của Math =\", m, \"\\n\",\n",
        "      \"PS của Psy =\", p, \"\\n\",)"
      ],
      "execution_count": 13,
      "outputs": [
        {
          "output_type": "stream",
          "text": [
            "Statistic = 0.022647262684762103 \n",
            " p value = 0.9990996867980957\n",
            "Các quần thể có phương sai bằng nhau\n",
            "PS của Bus = 10.0 \n",
            " PS của Eng = 9.166666666666666 \n",
            " PS của Math = 9.166666666666666 \n",
            " PS của Psy = 9.166666666666666 \n",
            "\n"
          ],
          "name": "stdout"
        }
      ]
    }
  ]
}
