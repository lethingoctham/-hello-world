{
  "nbformat": 4,
  "nbformat_minor": 0,
  "metadata": {
    "colab": {
      "name": "bài tập chương 2.ipynb",
      "provenance": [],
      "collapsed_sections": [],
      "authorship_tag": "ABX9TyNTUrp1TvgI3WOJgMYDkIgT",
      "include_colab_link": true
    },
    "kernelspec": {
      "name": "python3",
      "display_name": "Python 3"
    }
  },
  "cells": [
    {
      "cell_type": "markdown",
      "metadata": {
        "id": "view-in-github",
        "colab_type": "text"
      },
      "source": [
        "<a href=\"https://colab.research.google.com/github/lethingoctham/-hello-world/blob/main/b%C3%A0i_t%E1%BA%ADp_ch%C6%B0%C6%A1ng_2.ipynb\" target=\"_parent\"><img src=\"https://colab.research.google.com/assets/colab-badge.svg\" alt=\"Open In Colab\"/></a>"
      ]
    },
    {
      "cell_type": "markdown",
      "metadata": {
        "id": "09RTrXXve8wK"
      },
      "source": [
        "bài 1: lập trình nhập vào từ bàn phím 2 số nguyên và tính:\n",
        "    \n",
        "    1.Tổng 2 số\n",
        "    2 Tích 2 số\n",
        "    3.Hiệu 2 số\n",
        "    4.Phép chia lấy phần dư 2 số\n",
        "    5.Phép chia lấy phần nguyên 2 số"
      ]
    },
    {
      "cell_type": "code",
      "metadata": {
        "id": "fQQHwLtqew5D",
        "outputId": "bf341904-6a07-450b-dfef-4e8472b6258c",
        "colab": {
          "base_uri": "https://localhost:8080/",
          "height": 134
        }
      },
      "source": [
        "x= int(input (\"Nhập x =\"))\n",
        "y= int(input (\"Nhập y =\"))\n",
        "tong= x+y\n",
        "tich= x*y\n",
        "hieu= x-y\n",
        "du= x%y\n",
        "nguyen= x//y\n",
        "print (\"Tổng 2 số là\",tong)\n",
        "print (\"Tích 2 số là\",tich)\n",
        "print (\"Hiệu 2 số là\",hieu)\n",
        "print (\"Chia lấy phần dư =\",du)\n",
        "print (\"Chia lấy phần nguyên =\",nguyen)"
      ],
      "execution_count": 15,
      "outputs": [
        {
          "output_type": "stream",
          "text": [
            "Nhập x =23\n",
            "Nhập y =5\n",
            "Tổng 2 số là 28\n",
            "Tích 2 số là 115\n",
            "Hiệu 2 số là 18\n",
            "Chia lấy phần dư = 3\n",
            "Chia lấy phần nguyên = 4\n"
          ],
          "name": "stdout"
        }
      ]
    },
    {
      "cell_type": "markdown",
      "metadata": {
        "id": "n8-XF-4oNnHS"
      },
      "source": [
        "Bài 2: Lập trình nhập vào từ số thực 2 số thực và tính:\n",
        "\n",
        "    1.Tổng 2 số\n",
        "    2.Tích 2 số\n",
        "    3.Hiệu 2 số\n",
        "    4.Thương 2 số"
      ]
    },
    {
      "cell_type": "code",
      "metadata": {
        "id": "mZPTMpdpOUOW",
        "outputId": "bdc626d4-0893-48ca-aa30-86d098711f1e",
        "colab": {
          "base_uri": "https://localhost:8080/",
          "height": 118
        }
      },
      "source": [
        "a= float(input(\"a=\"))\n",
        "b= float(input(\"b=\"))\n",
        "print(\"Tổng là\",a+b)\n",
        "print(\"Tích là\",a*b)\n",
        "print(\"Hiệu là\",a-b)\n",
        "print(\"Thương là\",a/b)"
      ],
      "execution_count": 16,
      "outputs": [
        {
          "output_type": "stream",
          "text": [
            "a=2.3\n",
            "b=4.2\n",
            "Tổng là 6.5\n",
            "Tích là 9.66\n",
            "Hiệu là -1.9000000000000004\n",
            "Thương là 0.5476190476190476\n"
          ],
          "name": "stdout"
        }
      ]
    },
    {
      "cell_type": "markdown",
      "metadata": {
        "id": "P6Jcs34bQi9Y"
      },
      "source": [
        "Bài 3: (Sử dụng các hàm toán học).Nhập một số từ bàn phím và tính:\n",
        "\n",
        "      1.Trị tuyệt đối\n",
        "      2.Lấy phần nguyên của số\n",
        "      3.Chuyển đổi thành số thực\n",
        "      4.Nhập thêm 1 số từ bàn phím và tính lũy thừa\n",
        "      5.Tính căn bậc 2"
      ]
    },
    {
      "cell_type": "code",
      "metadata": {
        "id": "WdUwdvBmRrsF",
        "outputId": "01d1f979-4b72-496d-eacf-85f51ec92225",
        "colab": {
          "base_uri": "https://localhost:8080/",
          "height": 134
        }
      },
      "source": [
        "x = input(\" Nhập x =\")\n",
        "x= float(x)\n",
        "print(\"Trị tuyệt đối của x là\", abs(x))\n",
        "print(\"Phần nguyên của x là\",int(x))\n",
        "print(\"Chuyển thành số thực x =\",float(x))\n",
        "y =input(\"Nhập y =\")\n",
        "y= float(y)\n",
        "print(\"Lũy thừa x mũ y là\",pow(x,y) )\n",
        "from math import sqrt\n",
        "print (\"Căn bậc 2 của x là\",sqrt(x/((x-1))))"
      ],
      "execution_count": 17,
      "outputs": [
        {
          "output_type": "stream",
          "text": [
            " Nhập x =-4.5\n",
            "Trị tuyệt đối của x là 4.5\n",
            "Phần nguyên của x là -4\n",
            "Chuyển thành số thực x = -4.5\n",
            "Nhập y =2\n",
            "Lũy thừa x mũ y là 20.25\n",
            "Căn bậc 2 của x là 0.9045340337332909\n"
          ],
          "name": "stdout"
        }
      ]
    },
    {
      "cell_type": "markdown",
      "metadata": {
        "id": "Q0-ACOwFT-ME"
      },
      "source": [
        "Bài 4: Nhập 2 số từ bàn phím và thực hiện các phép so sánh sau giữa 2 \n",
        "\n",
        "     1.>=\n",
        "     2.<=\n",
        "     3.>\n",
        "     4.<\n",
        "     5.!=\n"
      ]
    },
    {
      "cell_type": "code",
      "metadata": {
        "id": "VFBFy8mcXGz2",
        "outputId": "1aede01d-44fd-443c-df7c-321d762b3448",
        "colab": {
          "base_uri": "https://localhost:8080/",
          "height": 134
        }
      },
      "source": [
        "a =float(input(\"Nhập a= \"))\n",
        "b =float(input(\"Nhập b= \"))\n",
        "print(\"Vậy a lớn hơn hoặc bằng b\",a>=b)\n",
        "print(\"Vậy a bé hơn hoặc bằng b\",a<=b)\n",
        "print(\"Vậy a lớn hơn b\",a>b)\n",
        "print(\"Vậy a bé hơn b\",a<b)\n",
        "print(\"Vậy a khác b\",a!=b)"
      ],
      "execution_count": 18,
      "outputs": [
        {
          "output_type": "stream",
          "text": [
            "Nhập a= 5.2\n",
            "Nhập b= 6.5\n",
            "Vậy a lớn hơn hoặc bằng b False\n",
            "Vậy a bé hơn hoặc bằng b True\n",
            "Vậy a lớn hơn b False\n",
            "Vậy a bé hơn b True\n",
            "Vậy a khác b True\n"
          ],
          "name": "stdout"
        }
      ]
    },
    {
      "cell_type": "markdown",
      "metadata": {
        "id": "6ja-NcXUYz3r"
      },
      "source": [
        "Bài 5: Nhập 1 chuỗi kí tự từ àn phím:\n",
        "\n",
        "     1.Chuyển thành chuỗi in hoa \n",
        "     2.Chuyển thành chuỗi in thường"
      ]
    },
    {
      "cell_type": "code",
      "metadata": {
        "id": "MQsEMDxNZT6Z",
        "outputId": "fd030ab2-7998-49ed-8757-acf1163b079e",
        "colab": {
          "base_uri": "https://localhost:8080/",
          "height": 67
        }
      },
      "source": [
        "c= input (\"Chuỗi kí tự c là \")\n",
        "print(\"Chuỗi kí tự chuyển thành chuỗi in hoa:\",c.upper())\n",
        "print(\"Chuỗi kí tự chuyển thành chuỗi in thường:\",c.lower())\n"
      ],
      "execution_count": 22,
      "outputs": [
        {
          "output_type": "stream",
          "text": [
            "Chuỗi kí tự c là Lê Thị Ngọc Thắm\n",
            "Chuỗi kí tự chuyển thành chuỗi in hoa: LÊ THỊ NGỌC THẮM\n",
            "Chuỗi kí tự chuyển thành chuỗi in thường: lê thị ngọc thắm\n"
          ],
          "name": "stdout"
        }
      ]
    },
    {
      "cell_type": "markdown",
      "metadata": {
        "id": "mdamdoTxcQTC"
      },
      "source": [
        "Bài 6:Xuất ra màn hình 1 chuỗi kí tự nằm trên nhiều hàng(có thể là 1 bài thơ hay tùy ý lựa chọn)"
      ]
    },
    {
      "cell_type": "code",
      "metadata": {
        "id": "ZVSIKEm4cmIi",
        "outputId": "1483d62a-0d96-40e6-9424-11820c3ea185",
        "colab": {
          "base_uri": "https://localhost:8080/",
          "height": 101
        }
      },
      "source": [
        "print ('\"Sóng bắt đầu từ gió \\nGió bắt đầu từ đâu \\nEm cũng không biết nữa \\nKhi nào ta yêu nhau\" \\n \\t (Trích Sóng - Xuân Quỳnh)')"
      ],
      "execution_count": 25,
      "outputs": [
        {
          "output_type": "stream",
          "text": [
            "\"Sóng bắt đầu từ gió \n",
            "Gió bắt đầu từ đâu \n",
            "Em cũng không biết nữa \n",
            "Khi nào ta yêu nhau\" \n",
            " \t (Trích Sóng - Xuân Quỳnh)\n"
          ],
          "name": "stdout"
        }
      ]
    }
  ]
}