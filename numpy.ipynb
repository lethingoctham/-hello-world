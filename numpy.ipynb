{
  "nbformat": 4,
  "nbformat_minor": 0,
  "metadata": {
    "colab": {
      "name": "Untitled11.ipynb",
      "provenance": [],
      "authorship_tag": "ABX9TyPJRZwUf+qFbdwkQHhpdriY",
      "include_colab_link": true
    },
    "kernelspec": {
      "name": "python3",
      "display_name": "Python 3"
    }
  },
  "cells": [
    {
      "cell_type": "markdown",
      "metadata": {
        "id": "view-in-github",
        "colab_type": "text"
      },
      "source": [
        "<a href=\"https://colab.research.google.com/github/lethingoctham/bt/blob/main/numpy.ipynb\" target=\"_parent\"><img src=\"https://colab.research.google.com/assets/colab-badge.svg\" alt=\"Open In Colab\"/></a>"
      ]
    },
    {
      "cell_type": "code",
      "metadata": {
        "colab": {
          "base_uri": "https://localhost:8080/"
        },
        "id": "8zDHJmpET8Ph",
        "outputId": "f7a8fc75-dd2b-4a40-e924-c6966ed78c7d"
      },
      "source": [
        "import numpy as np\r\n",
        "A=[[6,1,4],[1,2,5],[4,3,-1]]\r\n",
        "A=np.array(A)\r\n",
        "print(A)\r\n",
        "B=[[1,2,1],[5,1,6],[7,1,0]]\r\n",
        "B=np.array(B)\r\n",
        "print(\"Cộng hai ma trận A và B\")\r\n",
        "print(A+B)\r\n",
        "print(\"Trừ hai ma trận A và B\")\r\n",
        "print(A-B)\r\n",
        "print(\"Nhân hai ma trận A và B\")\r\n",
        "print(A.dot(B))\r\n",
        "\r\n",
        "A_transpose = A.transpose()\r\n",
        "B_transpose = B.transpose()\r\n",
        "\r\n"
      ],
      "execution_count": 3,
      "outputs": [
        {
          "output_type": "stream",
          "text": [
            "[[ 6  1  4]\n",
            " [ 1  2  5]\n",
            " [ 4  3 -1]]\n",
            "Cộng hai ma trận A và B\n",
            "[[ 7  3  5]\n",
            " [ 6  3 11]\n",
            " [11  4 -1]]\n",
            "Trừ hai ma trận A và B\n",
            "[[ 5 -1  3]\n",
            " [-4  1 -1]\n",
            " [-3  2 -1]]\n",
            "Nhân hai ma trận A và B\n",
            "[[39 17 12]\n",
            " [46  9 13]\n",
            " [12 10 22]]\n",
            "A_transpose\n"
          ],
          "name": "stdout"
        }
      ]
    }
  ]
}