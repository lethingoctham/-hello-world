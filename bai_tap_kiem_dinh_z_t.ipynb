{
  "nbformat": 4,
  "nbformat_minor": 0,
  "metadata": {
    "kernelspec": {
      "display_name": "Python 3",
      "language": "python",
      "name": "python3"
    },
    "language_info": {
      "codemirror_mode": {
        "name": "ipython",
        "version": 3
      },
      "file_extension": ".py",
      "mimetype": "text/x-python",
      "name": "python",
      "nbconvert_exporter": "python",
      "pygments_lexer": "ipython3",
      "version": "3.7.3"
    },
    "colab": {
      "name": "Copy of bai-tap-kiem-dinh-z-t.ipynb",
      "provenance": [],
      "include_colab_link": true
    }
  },
  "cells": [
    {
      "cell_type": "markdown",
      "metadata": {
        "id": "view-in-github",
        "colab_type": "text"
      },
      "source": [
        "<a href=\"https://colab.research.google.com/github/lethingoctham/bt/blob/main/bai_tap_kiem_dinh_z_t.ipynb\" target=\"_parent\"><img src=\"https://colab.research.google.com/assets/colab-badge.svg\" alt=\"Open In Colab\"/></a>"
      ]
    },
    {
      "cell_type": "markdown",
      "metadata": {
        "id": "zkC4TNq2GlxS"
      },
      "source": [
        "XÂY DỰNG CHƯƠNG TRÌNH KIỂM ĐỊNH Z (HOẶC T) CHO CÁC BÀI TẬP SAU\n",
        "\n",
        "Gợi ý:\n",
        "\n",
        "- Số liệu được sinh ngẫu nhiên theo phân phối chuẩn\n",
        "- Sử dụng gói phần mềm statsmodels để tiến hành kiểm định\n",
        "- Đối với các bài tập kiểm định giả thuyết thì sinh viên cần phát biểu các giả thuyết (bằng tiếng Việt) $H_{0}$ và $H_{a}$ trước khi lập trình kiểm định"
      ]
    },
    {
      "cell_type": "markdown",
      "metadata": {
        "id": "tZWrJD3wGlxX"
      },
      "source": [
        "Bài 1: You’re a Q/C inspector for Gallo. The sample standard deviation for 2-liter bottles is .05 liters.  A random sample of 100 bottles showed sasmple mean = 1.99 liters.  What is the 90%  confidence interval estimate of the true mean amount in 2-liter bottles? "
      ]
    },
    {
      "cell_type": "code",
      "metadata": {
        "id": "Ua_NOXFKGlxY"
      },
      "source": [
        "import numpy as np\n",
        "import statistics as st\n",
        "import pandas as pd\n",
        "import random\n",
        "from scipy import stats\n",
        "from statsmodels.stats.weightstats import ztest\n",
        "import warnings\n",
        "import matplotlib.pyplot as plt\n",
        "import seaborn as sns\n",
        "%matplotlib inline"
      ],
      "execution_count": 35,
      "outputs": []
    },
    {
      "cell_type": "code",
      "metadata": {
        "colab": {
          "base_uri": "https://localhost:8080/"
        },
        "id": "eh7fXMB7I0RS",
        "outputId": "bea53168-0fcb-4d05-d28b-a1cb6521beaf"
      },
      "source": [
        "# sinh ngẫu nhiên một mẫu 100 chai, có tb mẫu là 1.99, độ lệch chuẩn là 0.05\n",
        "sp = np.random.normal(1.99, 0.05, 100)\n",
        "print(sp[:10])\n",
        "#xác định các thông số \n",
        "null_mean = 2\n",
        "alpha = 0.1\n",
        "#Kiểm định z\n",
        "ztest_Score, p_value= ztest(sp, value = null_mean, alternative='larger')\n",
        "if(p_value <  alpha):\n",
        "  print(\"Có bằng chứng để bác bỏ giả thuyết H0\")\n",
        "else:\n",
        "  print(\"Chưa có bằng chứng để bác bỏ giả thuyết H0\")\n",
        "#tính khoảng tin cậy \n",
        "ktc = stats.t.interval(0.9, len(sp)-1, null_mean, scale = stats.sem(sp))\n",
        "print(\"Khoảng tin cậy 90% của giá trị trung bình trong chai 2 lít là\", ktc)"
      ],
      "execution_count": null,
      "outputs": [
        {
          "output_type": "stream",
          "text": [
            "[2.0045087  1.94798742 1.98992015 2.00259764 2.02733343 2.02172938\n",
            " 1.97032589 1.97819789 1.96478902 1.93681337]\n",
            "Chưa có bằng chứng để bác bỏ giả thuyết H0\n",
            "Khoảng tin cậy 90% của giá trị trung bình trong chai 2 lít là (1.991551327725451, 2.008448672274549)\n"
          ],
          "name": "stdout"
        }
      ]
    },
    {
      "cell_type": "markdown",
      "metadata": {
        "id": "5eQOWeIOGlxY"
      },
      "source": [
        "Bài 2: You’re a time study analyst in manufacturing.  You’ve recorded the following task times (min.): 3.6, 4.2, 4.0, 3.5, 3.8, 3.1. What is the 90% confidence interval estimate of the population mean task time? "
      ]
    },
    {
      "cell_type": "code",
      "metadata": {
        "colab": {
          "base_uri": "https://localhost:8080/"
        },
        "id": "7Gxa4iFlGlxY",
        "outputId": "d62f58dd-6f1d-41f7-cf3d-5855788c4dfa"
      },
      "source": [
        "times = [3.6, 4.2, 4.0, 3.5, 3.8, 3.1]\n",
        "mean =np.mean(times)\n",
        "std = np.std(times)\n",
        "print(\"mean = \", mean, \"    \",\"std = \", std)\n",
        "ktc = stats.t.interval(0.9, len(times)-1, mean, scale = stats.sem(times))\n",
        "print(\"Khoảng tin cậy 90% của thời gian thực hiện nhiệm vụ trung bình của tổng thể là\", ktc)"
      ],
      "execution_count": 4,
      "outputs": [
        {
          "output_type": "stream",
          "text": [
            "mean =  3.7000000000000006      std =  0.3559026084010437\n",
            "Khoảng tin cậy 90% của thời gian thực hiện nhiệm vụ trung bình của tổng thể là (3.3792758632100677, 4.020724136789934)\n"
          ],
          "name": "stdout"
        }
      ]
    },
    {
      "cell_type": "markdown",
      "metadata": {
        "id": "tWjEd1XkGlxZ"
      },
      "source": [
        "Bài 3: Does an average box of cereal contain 368 grams of cereal?  A random sample of 25 boxes had $\\overline{\\rm x}$ = 372.5.  The company has specified $\\sigma$ to be 25 grams.  Test at the .05 level of significance."
      ]
    },
    {
      "cell_type": "code",
      "metadata": {
        "colab": {
          "base_uri": "https://localhost:8080/"
        },
        "id": "shCQ__ZAGlxZ",
        "outputId": "b1014acf-ad23-4068-8a65-4e77a3b56279"
      },
      "source": [
        "#xác định thông số\n",
        "alpha1 = 0.05\n",
        "mean1 = 368\n",
        "\n",
        "#Sinh ngẫu nhiên một mẫu 25 phần tử có trung bình mẫu là 372.5, độ lệch chuẩn là 25\n",
        "sp1 = np.random.normal(372.5, 25, 25)\n",
        "#Kiểm định t\n",
        "ttest_Score, p_value = stats.ttest_1samp(sp1, mean1)\n",
        "print('t = ',ttest_Score,', p = ',p_value)\n",
        "if(p_value <  alpha1/2):\n",
        "  print(\"Có bằng chứng để bác bỏ giả thuyết H0\")\n",
        "else:\n",
        "  print(\"Chưa có bằng chứng để bác bỏ giả thuyết H0\")"
      ],
      "execution_count": 5,
      "outputs": [
        {
          "output_type": "stream",
          "text": [
            "t =  0.19937963472239287 , p =  0.8436453687961443\n",
            "Chưa có bằng chứng để bác bỏ giả thuyết H0\n"
          ],
          "name": "stdout"
        }
      ]
    },
    {
      "cell_type": "markdown",
      "metadata": {
        "id": "bi9z4ZgnGlxZ"
      },
      "source": [
        "Bài 4: You’re a Q/C inspector.  You want to find out if a new machine is making electrical cords to customer specification: average breaking strength of 70 lb. with $\\sigma$ = 3.5 lb.  You take a sample of 36 cords & compute a sample mean of 69.7 lb.  At the .05 level of significance, is there evidence that the machine is not meeting the average breaking strength?"
      ]
    },
    {
      "cell_type": "code",
      "metadata": {
        "colab": {
          "base_uri": "https://localhost:8080/"
        },
        "id": "XN_g_hLaGlxZ",
        "outputId": "a04a950e-0ba3-46eb-d99c-4f38b1b0d9d4"
      },
      "source": [
        "# sinh ngẫu nhiên một mẫu 36 , có tb mẫu là 70 , độ lệch chuẩn là 3.5\n",
        "sp2 = np.random.normal(70, 3.5, 36)\n",
        "print(sp[:10])\n",
        "#xác định các thông số \n",
        "null_mean = 69.7\n",
        "alpha2 = 0.05\n",
        "#Kiểm định z\n",
        "ztest_Score, p_value= ztest(sp2, value = null_mean, alternative='larger')\n",
        "if(p_value <  alpha2):\n",
        "  print(\"Có bằng chứng để bác bỏ giả thuyết H0\")\n",
        "else:\n",
        "  print(\"Chưa có bằng chứng để bác bỏ giả thuyết H0\")\n"
      ],
      "execution_count": null,
      "outputs": [
        {
          "output_type": "stream",
          "text": [
            "[68.80734545 71.25901117 68.38747443 64.46128326 69.62895908 70.04870307\n",
            " 75.81502564 76.21632244 71.54882622 67.63878866]\n",
            "Chưa có bằng chứng để bác bỏ giả thuyết H0\n"
          ],
          "name": "stdout"
        }
      ]
    },
    {
      "cell_type": "markdown",
      "metadata": {
        "id": "KTJwdT-yGlxa"
      },
      "source": [
        "Bài 5: Does an average box of cereal contain more than 368 grams of cereal?  A random sample of 25 boxes showed $\\overline{\\rm x}$ =  372.5.  The company has specified $\\sigma$ to be 25 grams.  Test at the .05 level of significance."
      ]
    },
    {
      "cell_type": "code",
      "metadata": {
        "colab": {
          "base_uri": "https://localhost:8080/"
        },
        "id": "VK95KYrUGlxa",
        "outputId": "d79d5893-b009-4586-9e5a-0cf90bc6c8b5"
      },
      "source": [
        "alpha2 = 0.05\n",
        "mean2 = 368\n",
        "\n",
        "#Sinh ngẫu nhiên một mẫu 25 phần tử có trung bình mẫu là 372.5, độ lệch chuẩn là 25\n",
        "sp5 = np.random.normal(372.5, 25, 25)\n",
        "#Kiểm định t\n",
        "\n",
        "ttest_Score, p_value = stats.ttest_1samp(sp2, mean2)\n",
        "\n",
        "print('t = ',ttest_Score,', p = ',p_value)\n",
        "if(p_value <  alpha2) and (ttest_Score > 0) :\n",
        "  print(\"Có bằng chứng để bác bỏ giả thuyết H0\")\n",
        "else:\n",
        "  print(\"Chưa có bằng chứng để bác bỏ giả thuyết H0\")"
      ],
      "execution_count": 10,
      "outputs": [
        {
          "output_type": "stream",
          "text": [
            "t =  2.337274803802944 , p =  0.028096515863539527\n",
            "Có bằng chứng để bác bỏ giả thuyết H0\n"
          ],
          "name": "stdout"
        }
      ]
    },
    {
      "cell_type": "markdown",
      "metadata": {
        "id": "33eT0o0yGlxa"
      },
      "source": [
        "Bài 6: You’re an analyst for Ford.  You want to find out if the average miles per gallon of Escorts is at least 32 mpg. Similar models have a standard deviation of 3.8 mpg. You take a sample of 60 Escorts & compute a sample mean of 30.7 mpg. At the .01 level of significance, is there evidence that the miles per gallon is less than 32?"
      ]
    },
    {
      "cell_type": "code",
      "metadata": {
        "colab": {
          "base_uri": "https://localhost:8080/"
        },
        "id": "uhX937M_Glxa",
        "outputId": "242b487e-10fb-42b4-adca-81b340069e95"
      },
      "source": [
        "alpha3 = 0.01\n",
        "mean3 = 32\n",
        "#sinh ngẫu nhiên một mẫu 60 phần tử có trung bình mẫu là 30.7 độ lệch chuẩn là 3.8\n",
        "sp3 = np.random.normal(30.7,3.8,60)\n",
        "#kiểm định z\n",
        "ztest_Score, p_value= ztest(sp3, value = mean3, alternative='larger')\n",
        "print('z = ', ztest_Score, '; p = ', p_value)\n",
        "if (p_value <  alpha3)and (ztest_Score < 0):\n",
        "  print(\"Có bằng chứng để bác bỏ giả thuyết H0\")\n",
        "else:\n",
        "  print(\"Chưa có bằng chứng để bác bỏ giả thuyết H0\")"
      ],
      "execution_count": 11,
      "outputs": [
        {
          "output_type": "stream",
          "text": [
            "z =  -2.6427850155210733 ; p =  0.9958886386618406\n",
            "Chưa có bằng chứng để bác bỏ giả thuyết H0\n"
          ],
          "name": "stdout"
        }
      ]
    },
    {
      "cell_type": "markdown",
      "metadata": {
        "id": "pCSq0ibcGlxb"
      },
      "source": [
        "Bài 7: Does an average box of cereal contain 368 grams of cereal?  A random sample of 25 boxes showed $\\overline{\\rm x}$ = 372.5.  The company has specified $\\sigma$ to be 15 grams.  Find the p-Value."
      ]
    },
    {
      "cell_type": "code",
      "metadata": {
        "id": "7Ts3OC-5Glxb",
        "outputId": "98dc82ce-1dc0-42e8-c0ff-7296b277a681",
        "colab": {
          "base_uri": "https://localhost:8080/"
        }
      },
      "source": [
        "mean4 = 368\n",
        "#Sinh ngẫu nhiên một mẫu 25 phần tử có trung bình mẫu là 372.5, độ lệch chuẩn là 15\n",
        "sp4 = np.random.normal(372.5, 15, 25)\n",
        "#Kiểm định t\n",
        "ttest_Score, p_value = stats.ttest_1samp(sp4, mean4)\n",
        "print('p_value = ',p_value)"
      ],
      "execution_count": 12,
      "outputs": [
        {
          "output_type": "stream",
          "text": [
            "p_value =  0.004035813113427119\n"
          ],
          "name": "stdout"
        }
      ]
    },
    {
      "cell_type": "markdown",
      "metadata": {
        "id": "XhdqKd9JGlxb"
      },
      "source": [
        "Bài 8: Does an average box of cereal contain more than 368 grams of cereal?  A random sample of 25 boxes showed $\\overline{\\rm x}$ = 372.5.  The company has specified $\\sigma$ to be 15 grams.  Find the p-Value."
      ]
    },
    {
      "cell_type": "code",
      "metadata": {
        "id": "zBmgfyyxGlxb",
        "outputId": "e2e39f4d-37c8-4ca7-f091-af9494bd14ed",
        "colab": {
          "base_uri": "https://localhost:8080/"
        }
      },
      "source": [
        "mean5 = 368\n",
        "#Sinh ngẫu nhiên một mẫu 25 phần tử có trung bình mẫu là 372.5, độ lệch chuẩn là 15\n",
        "sp5 = np.random.normal(372.5, 15, 25)\n",
        "#Kiểm định t\n",
        "ttest_Score, p_value = stats.ttest_1samp(sp5, mean5)\n",
        "print('p_value = ',p_value)"
      ],
      "execution_count": 13,
      "outputs": [
        {
          "output_type": "stream",
          "text": [
            "p_value =  0.2560459432212969\n"
          ],
          "name": "stdout"
        }
      ]
    },
    {
      "cell_type": "markdown",
      "metadata": {
        "id": "62cAYddrGlxb"
      },
      "source": [
        "Bài 9: You’re an analyst for Ford.  You want to find out if the average miles per gallon of Escorts is less than 32 mpg.   Similar models have a standard deviation of 3.8 mpg.  You take a sample of 60 Escorts & compute a sample mean of 30.7 mpg.  What is the value of the observed level of significance (p-Value)?"
      ]
    },
    {
      "cell_type": "code",
      "metadata": {
        "id": "kBSnLwoSGlxc",
        "outputId": "eccc1fe4-d1b1-4fcd-fdbc-20a00a0fae2d",
        "colab": {
          "base_uri": "https://localhost:8080/"
        }
      },
      "source": [
        "mean6 = 32\n",
        "#Sinh ngẫu nhiên một mẫu 60 phần tử có trung bình mẫu là 30.7, độ lệch chuẩn là 3.8\n",
        "sp6 = np.random.normal(30.7, 3.8, 60)\n",
        "#Kiểm định t\n",
        "ttest_Score, p_value = stats.ttest_1samp(sp6, mean6)\n",
        "print('p_value = ',p_value)"
      ],
      "execution_count": 14,
      "outputs": [
        {
          "output_type": "stream",
          "text": [
            "p_value =  0.010298521931575771\n"
          ],
          "name": "stdout"
        }
      ]
    },
    {
      "cell_type": "markdown",
      "metadata": {
        "id": "fZQLtWeNGlxc"
      },
      "source": [
        "Bài 10: Does an average box of cereal contain 368 grams of cereal?  A random sample of 36 boxes had a mean of 372.5 and a standard deviation of 12 grams. Test at the .05 level of significance."
      ]
    },
    {
      "cell_type": "code",
      "metadata": {
        "colab": {
          "base_uri": "https://localhost:8080/"
        },
        "id": "YmPcJgh3Glxc",
        "outputId": "f62f2b0a-9a19-41a4-aa28-78ce3c135ca2"
      },
      "source": [
        "sp7 = np.random.normal(37.5, 12,36 )\n",
        "#xác định các thông số \n",
        "null_mean7 = 368\n",
        "alpha7 = 0.05\n",
        "#Kiểm định z\n",
        "ztest_Score, p_value= ztest(sp7, value = null_mean7, alternative='two-sided')\n",
        "print('z = ', ztest_Score, '; p = ', p_value)\n",
        "if(p_value <  alpha7):\n",
        "  print(\"Có bằng chứng để bác bỏ giả thuyết H0\")\n",
        "else:\n",
        "  print(\"Chưa có bằng chứng để bác bỏ giả thuyết H0\")"
      ],
      "execution_count": 23,
      "outputs": [
        {
          "output_type": "stream",
          "text": [
            "z =  -195.66507127867683 ; p =  0.0\n",
            "Có bằng chứng để bác bỏ giả thuyết H0\n"
          ],
          "name": "stdout"
        }
      ]
    },
    {
      "cell_type": "markdown",
      "metadata": {
        "id": "gEuHmyVkGlxc"
      },
      "source": [
        "Bài 11: You work for the FTC.  A manufacturer of detergent claims that the mean weight of detergent is 3.25 lb.  You take a random sample of 64 containers.  You calculate the sample average to be 3.238 lb. with a standard deviation of .117 lb.  At the .01 level of significance, is the manufacturer correct?"
      ]
    },
    {
      "cell_type": "code",
      "metadata": {
        "colab": {
          "base_uri": "https://localhost:8080/"
        },
        "id": "veazbs-1Glxc",
        "outputId": "9b1fa388-1aa6-4b2a-b372-b589f65adfde"
      },
      "source": [
        "sp8 = np.random.normal(3.238, 0.117, 64)\n",
        "mean8 = 3.25\n",
        "alpha8 = 0.01\n",
        "ztest_Score, p_value1= ztest(sp8, value = mean8, alternative='larger')\n",
        "print('z = ', ztest_Score, '; p = ', p_value)\n",
        "if(p_value1 <  alpha8/2):\n",
        "  print(\"Có bằng chứng để bác bỏ giả thuyết H0\")\n",
        "else:\n",
        "  print(\"Chưa có bằng chứng để bác bỏ giả thuyết H0\")"
      ],
      "execution_count": 37,
      "outputs": [
        {
          "output_type": "stream",
          "text": [
            "z =  -0.8218928348414682 ; p =  0.0\n",
            "Chưa có bằng chứng để bác bỏ giả thuyết H0\n"
          ],
          "name": "stdout"
        }
      ]
    },
    {
      "cell_type": "markdown",
      "metadata": {
        "id": "zszKP5eIGlxc"
      },
      "source": [
        "Bài 12: Is the average capacity of batteries less than 140 ampere-hours?  A random sample of 20 batteries had a mean of 138.47 and a standard deviation of 2.66.  Assume a normal distribution. Test at the .05 level of significance."
      ]
    },
    {
      "cell_type": "code",
      "metadata": {
        "id": "q9qvDV1LGlxd",
        "outputId": "d0025343-2b45-43d0-91ed-fe5c2d0cd939",
        "colab": {
          "base_uri": "https://localhost:8080/"
        }
      },
      "source": [
        "sp9 = np.random.normal(138.47, 2.66, 20)\n",
        "mean9 = 140\n",
        "alpha9 = 0.05\n",
        "#Kiểm định t\n",
        "ttest_Score, p_value = stats.ttest_1samp(sp9, mean9)\n",
        "print('t = ',ttest_Score,', p = ',p_value)\n",
        "if(p_value <  alpha9) and (ttest_Score>0):\n",
        "  print(\"Có bằng chứng để bác bỏ giả thuyết H0\")\n",
        "else:\n",
        "  print(\"Chưa có bằng chứng để bác bỏ giả thuyết H0\")"
      ],
      "execution_count": 38,
      "outputs": [
        {
          "output_type": "stream",
          "text": [
            "t =  -2.323749195522575 , p =  0.031384425253327804\n",
            "Chưa có bằng chứng để bác bỏ giả thuyết H0\n"
          ],
          "name": "stdout"
        }
      ]
    },
    {
      "cell_type": "markdown",
      "metadata": {
        "id": "1KEooaFgGlxd"
      },
      "source": [
        "Bài 13: You’re a marketing analyst for Wal-Mart.  Wal-Mart had teddy bears on sale last week.  The weekly sales of bears sold in 10 stores was: 8  11  0   4   7   8   10   5   8   3. At the .05 level of significance, is there evidence that the average bear sales per store is more than 5?"
      ]
    },
    {
      "cell_type": "code",
      "metadata": {
        "id": "ixfglk85Glxd",
        "outputId": "3527f74f-aa49-45d5-ec46-db4dcc94062f",
        "colab": {
          "base_uri": "https://localhost:8080/"
        }
      },
      "source": [
        "sp10 = [8, 11, 0, 4, 7, 8, 10, 5, 8, 3]\n",
        "mean10 = np.mean(sp9)\n",
        "alpha10 = 0.05\n",
        "#Kiểm định t\n",
        "ttest_Score, p_value = stats.ttest_1samp(sp10, mean10)\n",
        "print('t = ',ttest_Score,', p = ',p_value)\n",
        "if(p_value <  alpha10) and (ttest_Score > 0):\n",
        "  print(\"Có bằng chứng để bác bỏ giả thuyết H0\")\n",
        "else:\n",
        "  print(\"Chưa có bằng chứng để bác bỏ giả thuyết H0\")"
      ],
      "execution_count": 45,
      "outputs": [
        {
          "output_type": "stream",
          "text": [
            "t =  -123.86205297208295 , p =  7.402602350367845e-16\n",
            "Chưa có bằng chứng để bác bỏ giả thuyết H0\n"
          ],
          "name": "stdout"
        }
      ]
    }
  ]
}