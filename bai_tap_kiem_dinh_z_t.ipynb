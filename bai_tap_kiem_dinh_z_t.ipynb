{
  "nbformat": 4,
  "nbformat_minor": 0,
  "metadata": {
    "kernelspec": {
      "display_name": "Python 3",
      "language": "python",
      "name": "python3"
    },
    "language_info": {
      "codemirror_mode": {
        "name": "ipython",
        "version": 3
      },
      "file_extension": ".py",
      "mimetype": "text/x-python",
      "name": "python",
      "nbconvert_exporter": "python",
      "pygments_lexer": "ipython3",
      "version": "3.7.3"
    },
    "colab": {
      "name": "Copy of bai-tap-kiem-dinh-z-t.ipynb",
      "provenance": [],
      "include_colab_link": true
    }
  },
  "cells": [
    {
      "cell_type": "markdown",
      "metadata": {
        "id": "view-in-github",
        "colab_type": "text"
      },
      "source": [
        "<a href=\"https://colab.research.google.com/github/lethingoctham/bt/blob/main/bai_tap_kiem_dinh_z_t.ipynb\" target=\"_parent\"><img src=\"https://colab.research.google.com/assets/colab-badge.svg\" alt=\"Open In Colab\"/></a>"
      ]
    },
    {
      "cell_type": "markdown",
      "metadata": {
        "id": "zkC4TNq2GlxS"
      },
      "source": [
        "XÂY DỰNG CHƯƠNG TRÌNH KIỂM ĐỊNH Z (HOẶC T) CHO CÁC BÀI TẬP SAU\n",
        "\n",
        "Gợi ý:\n",
        "\n",
        "- Số liệu được sinh ngẫu nhiên theo phân phối chuẩn\n",
        "- Sử dụng gói phần mềm statsmodels để tiến hành kiểm định\n",
        "- Đối với các bài tập kiểm định giả thuyết thì sinh viên cần phát biểu các giả thuyết (bằng tiếng Việt) $H_{0}$ và $H_{a}$ trước khi lập trình kiểm định"
      ]
    },
    {
      "cell_type": "markdown",
      "metadata": {
        "id": "tZWrJD3wGlxX"
      },
      "source": [
        "Bài 1: You’re a Q/C inspector for Gallo. The sample standard deviation for 2-liter bottles is .05 liters.  A random sample of 100 bottles showed sasmple mean = 1.99 liters.  What is the 90%  confidence interval estimate of the true mean amount in 2-liter bottles? "
      ]
    },
    {
      "cell_type": "code",
      "metadata": {
        "id": "Ua_NOXFKGlxY"
      },
      "source": [
        "import numpy as np\n",
        "import statistics as st\n",
        "import pandas as pd\n",
        "import random\n",
        "from scipy import stats\n",
        "from statsmodels.stats.weightstats import ztest\n",
        "import warnings\n",
        "import matplotlib.pyplot as plt\n",
        "import seaborn as sns\n",
        "%matplotlib inline"
      ],
      "execution_count": null,
      "outputs": []
    },
    {
      "cell_type": "code",
      "metadata": {
        "colab": {
          "base_uri": "https://localhost:8080/"
        },
        "id": "eh7fXMB7I0RS",
        "outputId": "bea53168-0fcb-4d05-d28b-a1cb6521beaf"
      },
      "source": [
        "# sinh ngẫu nhiên một mẫu 100 chai, có tb mẫu là 1.99, độ lệch chuẩn là 0.05\n",
        "sp = np.random.normal(1.99, 0.05, 100)\n",
        "print(sp[:10])\n",
        "#xác định các thông số \n",
        "null_mean = 2\n",
        "alpha = 0.1\n",
        "#Kiểm định z\n",
        "ztest_Score, p_value= ztest(sp, value = null_mean, alternative='larger')\n",
        "if(p_value <  alpha):\n",
        "  print(\"Có bằng chứng để bác bỏ giả thuyết H0\")\n",
        "else:\n",
        "  print(\"Chưa có bằng chứng để bác bỏ giả thuyết H0\")\n",
        "#tính khoảng tin cậy \n",
        "ktc = stats.t.interval(0.9, len(sp)-1, null_mean, scale = stats.sem(sp))\n",
        "print(\"Khoảng tin cậy 90% của giá trị trung bình trong chai 2 lít là\", ktc)"
      ],
      "execution_count": null,
      "outputs": [
        {
          "output_type": "stream",
          "text": [
            "[2.0045087  1.94798742 1.98992015 2.00259764 2.02733343 2.02172938\n",
            " 1.97032589 1.97819789 1.96478902 1.93681337]\n",
            "Chưa có bằng chứng để bác bỏ giả thuyết H0\n",
            "Khoảng tin cậy 90% của giá trị trung bình trong chai 2 lít là (1.991551327725451, 2.008448672274549)\n"
          ],
          "name": "stdout"
        }
      ]
    },
    {
      "cell_type": "markdown",
      "metadata": {
        "id": "5eQOWeIOGlxY"
      },
      "source": [
        "Bài 2: You’re a time study analyst in manufacturing.  You’ve recorded the following task times (min.): 3.6, 4.2, 4.0, 3.5, 3.8, 3.1. What is the 90% confidence interval estimate of the population mean task time? "
      ]
    },
    {
      "cell_type": "code",
      "metadata": {
        "colab": {
          "base_uri": "https://localhost:8080/"
        },
        "id": "7Gxa4iFlGlxY",
        "outputId": "5bd32b9c-aff8-4975-ec06-6f93954069e9"
      },
      "source": [
        "times = [3.6, 4.2, 4.0, 3.5, 3.8, 3.1]\n",
        "mean =np.mean(times)\n",
        "ktc = stats.t.interval(0.9, len(times)-1, mean, scale = stats.sem(times))\n",
        "print(\"Khoảng tin cậy 90% của thời gian thực hiện nhiệm vụ trung bình của tổng thể là\", ktc)"
      ],
      "execution_count": null,
      "outputs": [
        {
          "output_type": "stream",
          "text": [
            "Khoảng tin cậy 90% của thời gian thực hiện nhiệm vụ trung bình của tổng thể là (3.3792758632100677, 4.020724136789934)\n"
          ],
          "name": "stdout"
        }
      ]
    },
    {
      "cell_type": "markdown",
      "metadata": {
        "id": "tWjEd1XkGlxZ"
      },
      "source": [
        "Bài 3: Does an average box of cereal contain 368 grams of cereal?  A random sample of 25 boxes had $\\overline{\\rm x}$ = 372.5.  The company has specified $\\sigma$ to be 25 grams.  Test at the .05 level of significance."
      ]
    },
    {
      "cell_type": "code",
      "metadata": {
        "colab": {
          "base_uri": "https://localhost:8080/"
        },
        "id": "shCQ__ZAGlxZ",
        "outputId": "585606f3-0b3d-41fa-8ced-c0d1f3a8f258"
      },
      "source": [
        "#n = 25, std = 25, mean= 368, alpha= 0.05\n",
        "sp1 = np.random.normal(368, 25, 25)\n",
        "print(sp[:10])\n",
        "#xác định các thông số \n",
        "null_mean = 372.5\n",
        "alpha1 = 0.05\n",
        "#Kiểm định z\n",
        "ztest_Score, p_value= ztest(sp1, value = null_mean, alternative='two-sided')\n",
        "if(p_value <  alpha1):\n",
        "  print(\"Có bằng chứng để bác bỏ giả thuyết H0\")\n",
        "else:\n",
        "  print(\"Chưa có bằng chứng để bác bỏ giả thuyết H0\")"
      ],
      "execution_count": null,
      "outputs": [
        {
          "output_type": "stream",
          "text": [
            "[68.80734545 71.25901117 68.38747443 64.46128326 69.62895908 70.04870307\n",
            " 75.81502564 76.21632244 71.54882622 67.63878866]\n",
            "Chưa có bằng chứng để bác bỏ giả thuyết H0\n"
          ],
          "name": "stdout"
        }
      ]
    },
    {
      "cell_type": "markdown",
      "metadata": {
        "id": "bi9z4ZgnGlxZ"
      },
      "source": [
        "Bài 4: You’re a Q/C inspector.  You want to find out if a new machine is making electrical cords to customer specification: average breaking strength of 70 lb. with $\\sigma$ = 3.5 lb.  You take a sample of 36 cords & compute a sample mean of 69.7 lb.  At the .05 level of significance, is there evidence that the machine is not meeting the average breaking strength?"
      ]
    },
    {
      "cell_type": "code",
      "metadata": {
        "colab": {
          "base_uri": "https://localhost:8080/"
        },
        "id": "XN_g_hLaGlxZ",
        "outputId": "a04a950e-0ba3-46eb-d99c-4f38b1b0d9d4"
      },
      "source": [
        "# sinh ngẫu nhiên một mẫu 36 , có tb mẫu là 70 , độ lệch chuẩn là 3.5\n",
        "sp2 = np.random.normal(70, 3.5, 36)\n",
        "print(sp[:10])\n",
        "#xác định các thông số \n",
        "null_mean = 69.7\n",
        "alpha2 = 0.05\n",
        "#Kiểm định z\n",
        "ztest_Score, p_value= ztest(sp2, value = null_mean, alternative='larger')\n",
        "if(p_value <  alpha2):\n",
        "  print(\"Có bằng chứng để bác bỏ giả thuyết H0\")\n",
        "else:\n",
        "  print(\"Chưa có bằng chứng để bác bỏ giả thuyết H0\")\n"
      ],
      "execution_count": null,
      "outputs": [
        {
          "output_type": "stream",
          "text": [
            "[68.80734545 71.25901117 68.38747443 64.46128326 69.62895908 70.04870307\n",
            " 75.81502564 76.21632244 71.54882622 67.63878866]\n",
            "Chưa có bằng chứng để bác bỏ giả thuyết H0\n"
          ],
          "name": "stdout"
        }
      ]
    },
    {
      "cell_type": "markdown",
      "metadata": {
        "id": "KTJwdT-yGlxa"
      },
      "source": [
        "Bài 5: Does an average box of cereal contain more than 368 grams of cereal?  A random sample of 25 boxes showed $\\overline{\\rm x}$ =  372.5.  The company has specified $\\sigma$ to be 25 grams.  Test at the .05 level of significance."
      ]
    },
    {
      "cell_type": "code",
      "metadata": {
        "colab": {
          "base_uri": "https://localhost:8080/"
        },
        "id": "VK95KYrUGlxa",
        "outputId": "74b489fa-bb94-4e05-a9ba-9ab9356f43b1"
      },
      "source": [
        "#n = 25, std = 25, mean= 368, alpha= 0.05\n",
        "sp3 = np.random.normal(368, 25, 25)\n",
        "print(sp[:10])\n",
        "#xác định các thông số \n",
        "null_mean = 372.5\n",
        "alpha3 = 0.05\n",
        "#Kiểm định z\n",
        "ztest_Score, p_value= ztest(sp3, value = null_mean, alternative='larger')\n",
        "if(p_value <  alpha3):\n",
        "  print(\"Có bằng chứng để bác bỏ giả thuyết H0\")\n",
        "else:\n",
        "  print(\"Chưa có bằng chứng để bác bỏ giả thuyết H0\")"
      ],
      "execution_count": null,
      "outputs": [
        {
          "output_type": "stream",
          "text": [
            "[68.80734545 71.25901117 68.38747443 64.46128326 69.62895908 70.04870307\n",
            " 75.81502564 76.21632244 71.54882622 67.63878866]\n",
            "Chưa có bằng chứng để bác bỏ giả thuyết H0\n"
          ],
          "name": "stdout"
        }
      ]
    },
    {
      "cell_type": "markdown",
      "metadata": {
        "id": "33eT0o0yGlxa"
      },
      "source": [
        "Bài 6: You’re an analyst for Ford.  You want to find out if the average miles per gallon of Escorts is at least 32 mpg. Similar models have a standard deviation of 3.8 mpg. You take a sample of 60 Escorts & compute a sample mean of 30.7 mpg. At the .01 level of significance, is there evidence that the miles per gallon is less than 32?"
      ]
    },
    {
      "cell_type": "code",
      "metadata": {
        "colab": {
          "base_uri": "https://localhost:8080/"
        },
        "id": "uhX937M_Glxa",
        "outputId": "e60e45a6-0c64-4c43-cd01-67c314361753"
      },
      "source": [
        "sp4 = np.random.normal(30.7, 3.8, 60)\n",
        "print(sp[:10])\n",
        "#xác định các thông số \n",
        "null_mean = 32\n",
        "alpha4 = 0.01\n",
        "#Kiểm định z\n",
        "ztest_Score, p_value= ztest(sp4, value = null_mean, alternative='two-sided')\n",
        "if(p_value <  alpha4):\n",
        "  print(\"Có bằng chứng để bác bỏ giả thuyết H0\")\n",
        "else:\n",
        "  print(\"Chưa có bằng chứng để bác bỏ giả thuyết H0\")"
      ],
      "execution_count": null,
      "outputs": [
        {
          "output_type": "stream",
          "text": [
            "[2.00376378 1.92081914 1.90961552 2.03516994 1.97477852 1.98557327\n",
            " 2.00204972 2.00300687 2.01168881 1.99528674]\n",
            "Có bằng chứng để bác bỏ giả thuyết H0\n"
          ],
          "name": "stdout"
        }
      ]
    },
    {
      "cell_type": "markdown",
      "metadata": {
        "id": "pCSq0ibcGlxb"
      },
      "source": [
        "Bài 7: Does an average box of cereal contain 368 grams of cereal?  A random sample of 25 boxes showed $\\overline{\\rm x}$ = 372.5.  The company has specified $\\sigma$ to be 15 grams.  Find the p-Value."
      ]
    },
    {
      "cell_type": "code",
      "metadata": {
        "id": "7Ts3OC-5Glxb"
      },
      "source": [
        ""
      ],
      "execution_count": null,
      "outputs": []
    },
    {
      "cell_type": "markdown",
      "metadata": {
        "id": "XhdqKd9JGlxb"
      },
      "source": [
        "Bài 8: Does an average box of cereal contain more than 368 grams of cereal?  A random sample of 25 boxes showed $\\overline{\\rm x}$ = 372.5.  The company has specified $\\sigma$ to be 15 grams.  Find the p-Value."
      ]
    },
    {
      "cell_type": "code",
      "metadata": {
        "id": "zBmgfyyxGlxb"
      },
      "source": [
        "#Code here"
      ],
      "execution_count": null,
      "outputs": []
    },
    {
      "cell_type": "markdown",
      "metadata": {
        "id": "62cAYddrGlxb"
      },
      "source": [
        "Bài 9: You’re an analyst for Ford.  You want to find out if the average miles per gallon of Escorts is less than 32 mpg.   Similar models have a standard deviation of 3.8 mpg.  You take a sample of 60 Escorts & compute a sample mean of 30.7 mpg.  What is the value of the observed level of significance (p-Value)?"
      ]
    },
    {
      "cell_type": "code",
      "metadata": {
        "id": "kBSnLwoSGlxc"
      },
      "source": [
        "#Code here"
      ],
      "execution_count": null,
      "outputs": []
    },
    {
      "cell_type": "markdown",
      "metadata": {
        "id": "fZQLtWeNGlxc"
      },
      "source": [
        "Bài 10: Does an average box of cereal contain 368 grams of cereal?  A random sample of 36 boxes had a mean of 372.5 and a standard deviation of 12 grams. Test at the .05 level of significance."
      ]
    },
    {
      "cell_type": "code",
      "metadata": {
        "colab": {
          "base_uri": "https://localhost:8080/"
        },
        "id": "YmPcJgh3Glxc",
        "outputId": "b023f347-7489-437c-d494-a359f403a92c"
      },
      "source": [
        "np = np.random.normal(37.5, 12,36 )\n",
        "print(sp[:10])\n",
        "#xác định các thông số \n",
        "null_mean = 368\n",
        "alpha8 = 0.05\n",
        "#Kiểm định z\n",
        "ztest_Score, p_value= ztest(sp, value = null_mean, alternative='two-sided')\n",
        "if(p_value <  alpha8):\n",
        "  print(\"Có bằng chứng để bác bỏ giả thuyết H0\")\n",
        "else:\n",
        "  print(\"Chưa có bằng chứng để bác bỏ giả thuyết H0\")"
      ],
      "execution_count": null,
      "outputs": [
        {
          "output_type": "stream",
          "text": [
            "[2.00376378 1.92081914 1.90961552 2.03516994 1.97477852 1.98557327\n",
            " 2.00204972 2.00300687 2.01168881 1.99528674]\n",
            "Có bằng chứng để bác bỏ giả thuyết H0\n"
          ],
          "name": "stdout"
        }
      ]
    },
    {
      "cell_type": "markdown",
      "metadata": {
        "id": "gEuHmyVkGlxc"
      },
      "source": [
        "Bài 11: You work for the FTC.  A manufacturer of detergent claims that the mean weight of detergent is 3.25 lb.  You take a random sample of 64 containers.  You calculate the sample average to be 3.238 lb. with a standard deviation of .117 lb.  At the .01 level of significance, is the manufacturer correct?"
      ]
    },
    {
      "cell_type": "code",
      "metadata": {
        "colab": {
          "base_uri": "https://localhost:8080/"
        },
        "id": "veazbs-1Glxc",
        "outputId": "f3f76734-320c-4bed-eaad-9611bf5acf64"
      },
      "source": [
        "np = np.random.normal(3.238, 0.117, 64 )\n",
        "print(sp[:10])\n",
        "#xác định các thông số \n",
        "null_mean = 3.25\n",
        "alpha8 = 0.05\n",
        "#Kiểm định z\n",
        "ztest_Score, p_value= ztest(sp, value = null_mean, alternative='two-sided')\n",
        "if(p_value <  alpha8):\n",
        "  print(\"Có bằng chứng để bác bỏ giả thuyết H0\")\n",
        "else:\n",
        "  print(\"Chưa có bằng chứng để bác bỏ giả thuyết H0\")"
      ],
      "execution_count": null,
      "outputs": [
        {
          "output_type": "stream",
          "text": [
            "[68.80734545 71.25901117 68.38747443 64.46128326 69.62895908 70.04870307\n",
            " 75.81502564 76.21632244 71.54882622 67.63878866]\n",
            "Có bằng chứng để bác bỏ giả thuyết H0\n"
          ],
          "name": "stdout"
        }
      ]
    },
    {
      "cell_type": "markdown",
      "metadata": {
        "id": "zszKP5eIGlxc"
      },
      "source": [
        "Bài 12: Is the average capacity of batteries less than 140 ampere-hours?  A random sample of 20 batteries had a mean of 138.47 and a standard deviation of 2.66.  Assume a normal distribution. Test at the .05 level of significance."
      ]
    },
    {
      "cell_type": "code",
      "metadata": {
        "id": "q9qvDV1LGlxd"
      },
      "source": [
        "np = np.random.normal(, ,  )"
      ],
      "execution_count": null,
      "outputs": []
    },
    {
      "cell_type": "markdown",
      "metadata": {
        "id": "1KEooaFgGlxd"
      },
      "source": [
        "Bài 13: You’re a marketing analyst for Wal-Mart.  Wal-Mart had teddy bears on sale last week.  The weekly sales of bears sold in 10 stores was: 8  11  0   4   7   8   10   5   8   3. At the .05 level of significance, is there evidence that the average bear sales per store is more than 5?"
      ]
    },
    {
      "cell_type": "code",
      "metadata": {
        "id": "ixfglk85Glxd"
      },
      "source": [
        "#Code here"
      ],
      "execution_count": null,
      "outputs": []
    },
    {
      "cell_type": "code",
      "metadata": {
        "id": "D4ynELdnGlxd"
      },
      "source": [
        ""
      ],
      "execution_count": null,
      "outputs": []
    }
  ]
}