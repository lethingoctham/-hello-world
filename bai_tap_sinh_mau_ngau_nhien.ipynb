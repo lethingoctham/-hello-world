{
  "nbformat": 4,
  "nbformat_minor": 0,
  "metadata": {
    "kernelspec": {
      "display_name": "Python 3",
      "language": "python",
      "name": "python3"
    },
    "language_info": {
      "codemirror_mode": {
        "name": "ipython",
        "version": 3
      },
      "file_extension": ".py",
      "mimetype": "text/x-python",
      "name": "python",
      "nbconvert_exporter": "python",
      "pygments_lexer": "ipython3",
      "version": "3.7.3"
    },
    "colab": {
      "name": "bai-tap-sinh-mau-ngau-nhien.ipynb",
      "provenance": [],
      "include_colab_link": true
    }
  },
  "cells": [
    {
      "cell_type": "markdown",
      "metadata": {
        "id": "view-in-github",
        "colab_type": "text"
      },
      "source": [
        "<a href=\"https://colab.research.google.com/github/lethingoctham/bt/blob/main/bai_tap_sinh_mau_ngau_nhien.ipynb\" target=\"_parent\"><img src=\"https://colab.research.google.com/assets/colab-badge.svg\" alt=\"Open In Colab\"/></a>"
      ]
    },
    {
      "cell_type": "markdown",
      "metadata": {
        "id": "MGmPDrzpVAIV"
      },
      "source": [
        "Sử dụng thư viện Numpy\n",
        "\n",
        "1. Sinh mẫu ngẫu nhiên bằng hàm arange trong khoảng [-15, 27] với khoảng cách là 0.7 và in kết quả ra màn hình"
      ]
    },
    {
      "cell_type": "code",
      "metadata": {
        "id": "kzyiClW3VAIa",
        "outputId": "9a8df488-9a28-47b2-d232-5889a6d36835",
        "colab": {
          "base_uri": "https://localhost:8080/"
        }
      },
      "source": [
        " import numpy as np\n",
        " sample_1 = np.arange(-15, 27, 0.7)\n",
        "print(sample_1)"
      ],
      "execution_count": 5,
      "outputs": [
        {
          "output_type": "stream",
          "text": [
            "[-15.  -14.3 -13.6 -12.9 -12.2 -11.5 -10.8 -10.1  -9.4  -8.7  -8.   -7.3\n",
            "  -6.6  -5.9  -5.2  -4.5  -3.8  -3.1  -2.4  -1.7  -1.   -0.3   0.4   1.1\n",
            "   1.8   2.5   3.2   3.9   4.6   5.3   6.    6.7   7.4   8.1   8.8   9.5\n",
            "  10.2  10.9  11.6  12.3  13.   13.7  14.4  15.1  15.8  16.5  17.2  17.9\n",
            "  18.6  19.3  20.   20.7  21.4  22.1  22.8  23.5  24.2  24.9  25.6  26.3\n",
            "  27. ]\n"
          ],
          "name": "stdout"
        }
      ]
    },
    {
      "cell_type": "markdown",
      "metadata": {
        "id": "HE3u9JvTVAIb"
      },
      "source": [
        "2. Sinh mẫu ngẫu nhiên theo phân phối chuẩn với mean = 2.7 std = 1.2 và size = 40\n",
        "In kết quả ra màn hình"
      ]
    },
    {
      "cell_type": "code",
      "metadata": {
        "id": "h3u1G7naVAIb",
        "outputId": "d6c617e4-7b3d-4360-e079-3a7df1a2803a",
        "colab": {
          "base_uri": "https://localhost:8080/"
        }
      },
      "source": [
        "sample_2 = np.random.normal(2.7, 1.2, 40)\n",
        "print(sample_2[:10])"
      ],
      "execution_count": 7,
      "outputs": [
        {
          "output_type": "stream",
          "text": [
            "[2.42430775 5.20848518 3.78626528 4.33524779 3.04846709 3.11260748\n",
            " 3.73803417 4.22689715 1.99590805 2.64815804]\n"
          ],
          "name": "stdout"
        }
      ]
    },
    {
      "cell_type": "markdown",
      "metadata": {
        "id": "txp1RvyuVAIc"
      },
      "source": [
        "3. Sinh mẫu ngẫu nhiên từ vector ['Viet Nam', 'Britain', 'France', 'Russia', 'Singapore'] \n",
        "\n",
        "với kích thước là 17 theo phân phối chuẩn"
      ]
    },
    {
      "cell_type": "code",
      "metadata": {
        "id": "f-FMTs9KVAIc",
        "outputId": "1338915f-72a2-426d-9283-698b9876e4fd",
        "colab": {
          "base_uri": "https://localhost:8080/"
        }
      },
      "source": [
        "sample_3 = np.random.choice(['Viet Nam', 'Britain', 'France', 'Russia', 'Singapore'], 17)\n",
        "print(sample_3)"
      ],
      "execution_count": 8,
      "outputs": [
        {
          "output_type": "stream",
          "text": [
            "['Russia' 'France' 'Singapore' 'Russia' 'Viet Nam' 'France' 'Singapore'\n",
            " 'Russia' 'France' 'Singapore' 'Singapore' 'Russia' 'Singapore'\n",
            " 'Singapore' 'Russia' 'Viet Nam' 'Viet Nam']\n"
          ],
          "name": "stdout"
        }
      ]
    },
    {
      "cell_type": "markdown",
      "metadata": {
        "id": "Jgx8TQtpVAIc"
      },
      "source": [
        "4. Sinh mẫu ngẫu nhiên ở câu 3 nhưng không theo phân phối chuẩn mà theo 1 vector đặc tả giá trị xác suất do bạn chọn"
      ]
    },
    {
      "cell_type": "code",
      "metadata": {
        "id": "I2wmmdMxVAIc",
        "outputId": "604a4b4b-c7f2-45ac-b7dc-daec3609a5b6",
        "colab": {
          "base_uri": "https://localhost:8080/"
        }
      },
      "source": [
        "sample_4 = np.random.choice(['Viet Nam', 'Britain', 'France', 'Russia', 'Singapore'], 8,p = [0.1, 0.1, 0.3, 0.2, 0.3])\n",
        "print(sample_4)"
      ],
      "execution_count": 14,
      "outputs": [
        {
          "output_type": "stream",
          "text": [
            "['France' 'France' 'Russia' 'France' 'Britain' 'Viet Nam' 'Singapore'\n",
            " 'France']\n"
          ],
          "name": "stdout"
        }
      ]
    },
    {
      "cell_type": "markdown",
      "metadata": {
        "id": "l0t_qpLZVAId"
      },
      "source": [
        "Sử dụng thư việc scipy.stats để sinh mẫu ngẫu nhiên\n",
        "\n",
        "1. Sinh mẫu ngẫu nhiên theo phân phối chuẩn với mean = 12.7, std = 2.6 và size = 30. In kết quả ra màn hình"
      ]
    },
    {
      "cell_type": "code",
      "metadata": {
        "id": "INv6vVsiVAId",
        "outputId": "10d1df85-c352-49b3-bac9-554a520ff216",
        "colab": {
          "base_uri": "https://localhost:8080/"
        }
      },
      "source": [
        "from scipy import stats\n",
        "sample_5 = stats.norm.rvs(12.7, 2.6, 30)\n",
        "print(sample_5[:10])"
      ],
      "execution_count": 15,
      "outputs": [
        {
          "output_type": "stream",
          "text": [
            "[10.24257759 12.22084123 16.22824794 14.84354663 14.69590266 13.03406813\n",
            " 13.80064023 14.32331515 16.02748605 14.03957606]\n"
          ],
          "name": "stdout"
        }
      ]
    },
    {
      "cell_type": "markdown",
      "metadata": {
        "id": "KflV-py0VAId"
      },
      "source": [
        "2. Hãy sinh một mẫu ngẫu nhiên theo phân phối Poisson"
      ]
    },
    {
      "cell_type": "code",
      "metadata": {
        "id": "u895CF6zVAId",
        "outputId": "c5922214-1c8a-48b1-f7b4-f25873a898f3",
        "colab": {
          "base_uri": "https://localhost:8080/"
        }
      },
      "source": [
        "sample_6 = stats.poisson.rvs(loc=20,mu=50,size=500)\n",
        "print(sample_6[:10])"
      ],
      "execution_count": 18,
      "outputs": [
        {
          "output_type": "stream",
          "text": [
            "[57 64 63 65 65 70 60 67 78 61]\n"
          ],
          "name": "stdout"
        }
      ]
    },
    {
      "cell_type": "code",
      "metadata": {
        "id": "tB5HBowBVAIe"
      },
      "source": [
        ""
      ],
      "execution_count": null,
      "outputs": []
    }
  ]
}